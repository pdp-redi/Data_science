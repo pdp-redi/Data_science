{
 "cells": [
  {
   "cell_type": "markdown",
   "metadata": {},
   "source": [
    "# Exercises for Markdown"
   ]
  },
  {
   "cell_type": "markdown",
   "metadata": {},
   "source": [
    "### 1. Create a numbered list of the top 5 websites you visit most often and include a link for each site.\n",
    "\n",
    "\n",
    "1. [amazon](https://www.amazon.de/)\n",
    "2. [green energy](https://green.energy/) \n",
    "3. [h & m](https://www.hm.com/entrance.ahtml?orguri=%2F)\n",
    "4. [jamoona](https://www.jamoona.com/)\n",
    "5. [media markt](https://www.mediamarkt.de/)"
   ]
  },
  {
   "cell_type": "markdown",
   "metadata": {},
   "source": [
    "### 2. Write a short biography of your favourite mathematician, provide a link to their Wikipedia page and include an image (with a link and description of the source).\n",
    "\n",
    "  * Ramanujan was an Indian mathematician who lived during the British Rule in India.\n",
    "[wikipedia page](https://en.wikipedia.org/wiki/Srinivasa_Ramanujan)\n",
    "![Ramanujan image](https://www.thefamouspeople.com/profiles/images/srinivasa-ramanujan-4.jpg)\n",
    "\n",
    "\n",
    "\n"
   ]
  },
  {
   "cell_type": "markdown",
   "metadata": {},
   "source": [
    "### 3. Create a table of all the courses that you have taken in university. Include the columns: course number, course title, year (that you took the class), and instructor name.\n",
    "\n",
    "| Course number | Course title | Year | Instructor |\n",
    "| :---: | :---: | :---: | :---: |\n",
    "| 1 | solar energy | 2019 | Pascal |\n",
    "| 2 | Bio energy | 2019 | Fischer |\n",
    "| 3 | Wind energy | 2019 | link |\n",
    "| 4 | ocean energy | 2019 | fischer |\n",
    "| 5 | CFD | 2019 | pascal |"
   ]
  },
  {
   "cell_type": "markdown",
   "metadata": {},
   "source": [
    "# Exercises for Latex"
   ]
  },
  {
   "cell_type": "markdown",
   "metadata": {},
   "source": [
    "1.Write LaTeX code to display the angle sum identity"
   ]
  },
  {
   "cell_type": "code",
   "execution_count": 11,
   "metadata": {},
   "outputs": [
    {
     "data": {
      "text/latex": [
       "$$\n",
       "\\cos (\\alpha \\pm \\beta)=\\cos \\alpha \\cos \\beta \\mp \\sin \\alpha \\sin \\beta\n",
       "$$\n"
      ],
      "text/plain": [
       "<IPython.core.display.Latex object>"
      ]
     },
     "metadata": {},
     "output_type": "display_data"
    }
   ],
   "source": [
    "%%latex\n",
    "$$\n",
    "\\cos (\\alpha \\pm \\beta)=\\cos \\alpha \\cos \\beta \\mp \\sin \\alpha \\sin \\beta\n",
    "$$"
   ]
  },
  {
   "cell_type": "markdown",
   "metadata": {},
   "source": [
    "2. Write LaTeX code to display the indefinite integral"
   ]
  },
  {
   "cell_type": "code",
   "execution_count": 12,
   "metadata": {},
   "outputs": [
    {
     "data": {
      "text/latex": [
       "$$\n",
       "\\int \\frac{1}{1+x^{2}} d x=\\arctan x+C\n",
       "$$\n"
      ],
      "text/plain": [
       "<IPython.core.display.Latex object>"
      ]
     },
     "metadata": {},
     "output_type": "display_data"
    }
   ],
   "source": [
    "%%latex\n",
    "$$\n",
    "\\int \\frac{1}{1+x^{2}} d x=\\arctan x+C\n",
    "$$"
   ]
  },
  {
   "cell_type": "markdown",
   "metadata": {},
   "source": [
    "3.Write LaTeX code to display the Navier-Stokes Equation for Incompressible Flow"
   ]
  },
  {
   "cell_type": "code",
   "execution_count": 13,
   "metadata": {},
   "outputs": [
    {
     "data": {
      "text/latex": [
       "$$\n",
       "\\frac{\\partial \\mathbf{u}}{\\partial t}+(\\mathbf{u} \\cdot \\nabla) \\mathbf{u}-\\nu \\nabla^{2} \\mathbf{u}=-\\nabla w+\\mathbf{g}\n",
       "$$\n"
      ],
      "text/plain": [
       "<IPython.core.display.Latex object>"
      ]
     },
     "metadata": {},
     "output_type": "display_data"
    }
   ],
   "source": [
    "%%latex\n",
    "$$\n",
    "\\frac{\\partial \\mathbf{u}}{\\partial t}+(\\mathbf{u} \\cdot \\nabla) \\mathbf{u}-\\nu \\nabla^{2} \\mathbf{u}=-\\nabla w+\\mathbf{g}\n",
    "$$"
   ]
  },
  {
   "cell_type": "markdown",
   "metadata": {},
   "source": [
    "4.Write LaTeX code to display Green's Theorem"
   ]
  },
  {
   "cell_type": "code",
   "execution_count": 15,
   "metadata": {},
   "outputs": [
    {
     "data": {
      "text/latex": [
       "$$\n",
       "\\oint_{C}(L d x+M d y)=\\iint_{D}\\left(\\frac{\\partial M}{\\partial x}-\\frac{\\partial L}{\\partial y}\\right) d x d y\n",
       "$$\n"
      ],
      "text/plain": [
       "<IPython.core.display.Latex object>"
      ]
     },
     "metadata": {},
     "output_type": "display_data"
    }
   ],
   "source": [
    "%%latex\n",
    "$$\n",
    "\\oint_{C}(L d x+M d y)=\\iint_{D}\\left(\\frac{\\partial M}{\\partial x}-\\frac{\\partial L}{\\partial y}\\right) d x d y\n",
    "$$"
   ]
  },
  {
   "cell_type": "markdown",
   "metadata": {},
   "source": [
    "5.Write LaTeX code to display the Prime Number Theorem"
   ]
  },
  {
   "cell_type": "code",
   "execution_count": 16,
   "metadata": {},
   "outputs": [
    {
     "data": {
      "text/latex": [
       "$$\n",
       "\\lim _{x \\rightarrow \\infty} \\frac{\\pi(x)}{\\frac{x}{\\log (x)}}=1\n",
       "$$\n"
      ],
      "text/plain": [
       "<IPython.core.display.Latex object>"
      ]
     },
     "metadata": {},
     "output_type": "display_data"
    }
   ],
   "source": [
    "%%latex\n",
    "$$\n",
    "\\lim _{x \\rightarrow \\infty} \\frac{\\pi(x)}{\\frac{x}{\\log (x)}}=1\n",
    "$$"
   ]
  },
  {
   "cell_type": "markdown",
   "metadata": {},
   "source": [
    "6.Write LaTeX code to display the general formula for Taylor series"
   ]
  },
  {
   "cell_type": "code",
   "execution_count": 4,
   "metadata": {},
   "outputs": [
    {
     "data": {
      "text/latex": [
       "$$\n",
       "\\sum_{n=0}^{\\infty} \\frac{f^{(n)}(a)}{n !}(x-a)^{n}\n",
       "$$\n"
      ],
      "text/plain": [
       "<IPython.core.display.Latex object>"
      ]
     },
     "metadata": {},
     "output_type": "display_data"
    }
   ],
   "source": [
    "%%latex\n",
    "$$\n",
    "\\sum_{n=0}^{\\infty} \\frac{f^{(n)}(a)}{n !}(x-a)^{n}\n",
    "$$"
   ]
  },
  {
   "cell_type": "markdown",
   "metadata": {},
   "source": [
    "7. Write LaTeX code to display Stokes' Theorem"
   ]
  },
  {
   "cell_type": "code",
   "execution_count": 5,
   "metadata": {},
   "outputs": [
    {
     "data": {
      "text/latex": [
       "$$\n",
       "\\int_{\\partial \\Omega} \\omega=\\int_{\\Omega} d \\omega\n",
       "$$\n"
      ],
      "text/plain": [
       "<IPython.core.display.Latex object>"
      ]
     },
     "metadata": {},
     "output_type": "display_data"
    }
   ],
   "source": [
    "%%latex\n",
    "$$\n",
    "\\int_{\\partial \\Omega} \\omega=\\int_{\\Omega} d \\omega\n",
    "$$"
   ]
  },
  {
   "cell_type": "markdown",
   "metadata": {},
   "source": [
    "8. Write LaTeX code to display the adjoint property of the tensor product"
   ]
  },
  {
   "cell_type": "code",
   "execution_count": 7,
   "metadata": {},
   "outputs": [
    {
     "data": {
      "text/latex": [
       "$$\n",
       "\\operatorname{Hom}(U \\otimes V, W) \\cong \\operatorname{Hom}(U, \\operatorname{Hom}(V, W))\n",
       "$$\n"
      ],
      "text/plain": [
       "<IPython.core.display.Latex object>"
      ]
     },
     "metadata": {},
     "output_type": "display_data"
    }
   ],
   "source": [
    "%%latex\n",
    "$$\n",
    "\\operatorname{Hom}(U \\otimes V, W) \\cong \\operatorname{Hom}(U, \\operatorname{Hom}(V, W))\n",
    "$$"
   ]
  },
  {
   "cell_type": "markdown",
   "metadata": {},
   "source": [
    "9.Write LaTeX code to display the definition of the Laplace transform"
   ]
  },
  {
   "cell_type": "code",
   "execution_count": 8,
   "metadata": {},
   "outputs": [
    {
     "data": {
      "text/latex": [
       "$$\n",
       "\\mathscr{L} f(t)=F(s)=\\int_{0}^{\\infty} f(t) e^{-s t} d t\n",
       "$$\n"
      ],
      "text/plain": [
       "<IPython.core.display.Latex object>"
      ]
     },
     "metadata": {},
     "output_type": "display_data"
    }
   ],
   "source": [
    "%%latex\n",
    "$$\n",
    "\\mathscr{L} f(t)=F(s)=\\int_{0}^{\\infty} f(t) e^{-s t} d t\n",
    "$$"
   ]
  },
  {
   "cell_type": "markdown",
   "metadata": {},
   "source": [
    "10. Write LaTeX code to display the inverse matrix formula"
   ]
  },
  {
   "cell_type": "code",
   "execution_count": 9,
   "metadata": {},
   "outputs": [
    {
     "data": {
      "text/latex": [
       "\\left[\\begin{array}{ll}\n",
       "a & b \\\\\n",
       "c & d\n",
       "\\end{array}\\right]^{-1}=\\frac{1}{a d-b c}\\left[\\begin{array}{cc}\n",
       "d & -b \\\\\n",
       "-c & a\n",
       "\\end{array}\\right]\n",
       "$$\n"
      ],
      "text/plain": [
       "<IPython.core.display.Latex object>"
      ]
     },
     "metadata": {},
     "output_type": "display_data"
    }
   ],
   "source": [
    "%%latex\n",
    "\\left[\\begin{array}{ll}\n",
    "a & b \\\\\n",
    "c & d\n",
    "\\end{array}\\right]^{-1}=\\frac{1}{a d-b c}\\left[\\begin{array}{cc}\n",
    "d & -b \\\\\n",
    "-c & a\n",
    "\\end{array}\\right]\n",
    "$$"
   ]
  },
  {
   "cell_type": "markdown",
   "metadata": {},
   "source": [
    "11. Write LaTeX code to display the infinite product formula"
   ]
  },
  {
   "cell_type": "code",
   "execution_count": 10,
   "metadata": {},
   "outputs": [
    {
     "data": {
      "text/latex": [
       "$$\n",
       "\\sin x=x \\prod_{n=1}^{\\infty}\\left(1-\\frac{x^{2}}{\\pi^{2} n^{2}}\\right)\n",
       "$$\n"
      ],
      "text/plain": [
       "<IPython.core.display.Latex object>"
      ]
     },
     "metadata": {},
     "output_type": "display_data"
    }
   ],
   "source": [
    "%%latex\n",
    "$$\n",
    "\\sin x=x \\prod_{n=1}^{\\infty}\\left(1-\\frac{x^{2}}{\\pi^{2} n^{2}}\\right)\n",
    "$$"
   ]
  },
  {
   "cell_type": "markdown",
   "metadata": {},
   "source": []
  },
  {
   "cell_type": "code",
   "execution_count": null,
   "metadata": {},
   "outputs": [],
   "source": []
  },
  {
   "cell_type": "code",
   "execution_count": null,
   "metadata": {},
   "outputs": [],
   "source": []
  }
 ],
 "metadata": {
  "kernelspec": {
   "display_name": "Python 3",
   "language": "python",
   "name": "python3"
  },
  "language_info": {
   "codemirror_mode": {
    "name": "ipython",
    "version": 3
   },
   "file_extension": ".py",
   "mimetype": "text/x-python",
   "name": "python",
   "nbconvert_exporter": "python",
   "pygments_lexer": "ipython3",
   "version": "3.8.5"
  }
 },
 "nbformat": 4,
 "nbformat_minor": 4
}
