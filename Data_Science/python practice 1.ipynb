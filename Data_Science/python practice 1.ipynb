{
 "cells": [
  {
   "cell_type": "code",
   "execution_count": 5,
   "metadata": {},
   "outputs": [
    {
     "name": "stdout",
     "output_type": "stream",
     "text": [
      "Type the number of kilometer:100\n",
      "100.0 km= 62.14 miles\n"
     ]
    }
   ],
   "source": [
    "km=float(input(\"Type the number of kilometer:\"))\n",
    "miles=km/1.609344\n",
    "print(km, \"km=\",round(miles,2), \"miles\")"
   ]
  },
  {
   "cell_type": "code",
   "execution_count": 6,
   "metadata": {},
   "outputs": [
    {
     "name": "stdout",
     "output_type": "stream",
     "text": [
      "6.0\n"
     ]
    }
   ],
   "source": [
    "x=4\n",
    "y=8\n",
    "avg=print((x+y)/2)"
   ]
  },
  {
   "cell_type": "code",
   "execution_count": 16,
   "metadata": {},
   "outputs": [
    {
     "data": {
      "text/plain": [
       "23"
      ]
     },
     "execution_count": 16,
     "metadata": {},
     "output_type": "execute_result"
    }
   ],
   "source": [
    "mystring='she said \"meet me at 5\"'\n",
    "mystring\n",
    "\n",
    "len(mystring)"
   ]
  },
  {
   "cell_type": "code",
   "execution_count": 33,
   "metadata": {},
   "outputs": [
    {
     "name": "stdout",
     "output_type": "stream",
     "text": [
      "037\n",
      "00901\n",
      "00027\n"
     ]
    }
   ],
   "source": [
    "mystring= \"037-00901-00027\"\n",
    "\n",
    "country_code= mystring[0:3]\n",
    "product_code= mystring[4:9]\n",
    "batch_number= mystring[-5:]\n",
    "print(country_code)\n",
    "print(product_code)\n",
    "print(batch_number)"
   ]
  },
  {
   "cell_type": "code",
   "execution_count": null,
   "metadata": {},
   "outputs": [],
   "source": [
    "lot_number= \"037-00901-00027\"\n",
    "print(\"country code:\", lot_number[:3])"
   ]
  },
  {
   "cell_type": "code",
   "execution_count": null,
   "metadata": {},
   "outputs": [],
   "source": [
    "#Area of circle\n",
    "area_of_circle= input(\"area of circle\")\n",
    "circumference_of_circle= input(\"circumference of circle\")"
   ]
  },
  {
   "cell_type": "code",
   "execution_count": 20,
   "metadata": {},
   "outputs": [
    {
     "name": "stdout",
     "output_type": "stream",
     "text": [
      "Type your Birthday in the format DD-MM-YYYY:05-02-1920\n",
      "You were born in feb\n"
     ]
    }
   ],
   "source": [
    "#date of birth\n",
    "month=(\"jan\",\"feb\",\"march\",\"april\",\"june\")\n",
    "birthday=input(\"Type your Birthday in the format DD-MM-YYYY:\")\n",
    "\n",
    "index=int(birthday[3:5])-1\n",
    "bd_month=month[index]\n",
    "\n",
    "print(\"You were born in\", bd_month)"
   ]
  },
  {
   "cell_type": "code",
   "execution_count": 34,
   "metadata": {},
   "outputs": [
    {
     "name": "stdout",
     "output_type": "stream",
     "text": [
      "Your name:sa\n",
      "['ram', 'shyam', 'mohan', 'abhi', 'sa']\n"
     ]
    }
   ],
   "source": [
    "#list of people\n",
    "employee=[\"ram\",\"shyam\",\"mohan\",\"abhi\"]\n",
    "\n",
    "user=input(\"Your name:\")\n",
    "\n",
    "employee.append(user)\n",
    "print(employee)\n"
   ]
  },
  {
   "cell_type": "code",
   "execution_count": 8,
   "metadata": {},
   "outputs": [
    {
     "name": "stdout",
     "output_type": "stream",
     "text": [
      "what information you want to know about the personage\n",
      "22\n"
     ]
    }
   ],
   "source": [
    "#Dictionaries\n",
    "\n",
    "person={\"name\":\"jon\",\"gender\":\"male\",\"age\":\"22\",\"address\":\"Ndh\",\"phone\":\"987654\"}\n",
    "key=input(\"what information you want to know about the person\")\n",
    "result=person.get(key,\"invalid property\")\n",
    "print(result)"
   ]
  },
  {
   "cell_type": "code",
   "execution_count": 7,
   "metadata": {},
   "outputs": [
    {
     "name": "stdout",
     "output_type": "stream",
     "text": [
      "Type the First number:2\n",
      "Type the second number:2\n",
      "2.0 is equal to 2.0\n"
     ]
    }
   ],
   "source": [
    "# booleans\n",
    "22\n",
    "num1=float (input(\"Type the First number:\"))\n",
    "num2=float (input(\"Type the second number:\"))\n",
    "\n",
    "if(num1>num2):\n",
    "    print(num1,\"is greater than\", num2)\n",
    "    \n",
    "elif(num1 == num2):\n",
    "        print(num1,\"is equal to\", num2)\n",
    "        \n",
    "else:\n",
    "        print(num1,\"is less than\", num2)"
   ]
  },
  {
   "cell_type": "code",
   "execution_count": null,
   "metadata": {},
   "outputs": [],
   "source": []
  },
  {
   "cell_type": "code",
   "execution_count": null,
   "metadata": {},
   "outputs": [],
   "source": []
  },
  {
   "cell_type": "code",
   "execution_count": null,
   "metadata": {},
   "outputs": [],
   "source": []
  }
 ],
 "metadata": {
  "kernelspec": {
   "display_name": "Python 3",
   "language": "python",
   "name": "python3"
  },
  "language_info": {
   "codemirror_mode": {
    "name": "ipython",
    "version": 3
   },
   "file_extension": ".py",
   "mimetype": "text/x-python",
   "name": "python",
   "nbconvert_exporter": "python",
   "pygments_lexer": "ipython3",
   "version": "3.8.5"
  }
 },
 "nbformat": 4,
 "nbformat_minor": 4
}
