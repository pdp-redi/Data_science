{
 "cells": [
  {
   "cell_type": "markdown",
   "metadata": {},
   "source": [
    "# Detect variables and equations"
   ]
  },
  {
   "cell_type": "code",
   "execution_count": 3,
   "metadata": {},
   "outputs": [],
   "source": [
    "import numpy as np\n",
    "import pandas as pd\n",
    "#import networkx as nx\n",
    "import re\n",
    "#Gd=nx.DiGraph()\n"
   ]
  },
  {
   "cell_type": "code",
   "execution_count": 16,
   "metadata": {},
   "outputs": [
    {
     "data": {
      "text/html": [
       "<div>\n",
       "<style scoped>\n",
       "    .dataframe tbody tr th:only-of-type {\n",
       "        vertical-align: middle;\n",
       "    }\n",
       "\n",
       "    .dataframe tbody tr th {\n",
       "        vertical-align: top;\n",
       "    }\n",
       "\n",
       "    .dataframe thead th {\n",
       "        text-align: right;\n",
       "    }\n",
       "</style>\n",
       "<table border=\"1\" class=\"dataframe\">\n",
       "  <thead>\n",
       "    <tr style=\"text-align: right;\">\n",
       "      <th></th>\n",
       "      <th>Equations</th>\n",
       "    </tr>\n",
       "  </thead>\n",
       "  <tbody>\n",
       "    <tr>\n",
       "      <th>0</th>\n",
       "      <td>F$ = 'water'</td>\n",
       "    </tr>\n",
       "    <tr>\n",
       "      <th>1</th>\n",
       "      <td>p_amb = 101.325 [kPa]</td>\n",
       "    </tr>\n",
       "    <tr>\n",
       "      <th>2</th>\n",
       "      <td>T_W = 20[C]</td>\n",
       "    </tr>\n",
       "    <tr>\n",
       "      <th>3</th>\n",
       "      <td>p[1] = p_amb</td>\n",
       "    </tr>\n",
       "    <tr>\n",
       "      <th>4</th>\n",
       "      <td>rho_W = density(F$,P=p_amb,T=T_W)</td>\n",
       "    </tr>\n",
       "  </tbody>\n",
       "</table>\n",
       "</div>"
      ],
      "text/plain": [
       "                           Equations\n",
       "0                       F$ = 'water'\n",
       "1              p_amb = 101.325 [kPa]\n",
       "2                        T_W = 20[C]\n",
       "3                       p[1] = p_amb\n",
       "4  rho_W = density(F$,P=p_amb,T=T_W)"
      ]
     },
     "execution_count": 16,
     "metadata": {},
     "output_type": "execute_result"
    }
   ],
   "source": [
    "data= pd.read_csv('Bernoulli.txt', delimiter='\\n')\n",
    "data.drop(data.tail(3).index,inplace=True) # drop last n rows\n",
    "\n",
    "data.head()\n"
   ]
  },
  {
   "cell_type": "code",
   "execution_count": 17,
   "metadata": {},
   "outputs": [
    {
     "name": "stdout",
     "output_type": "stream",
     "text": [
      "F$ = 'water'\n",
      "p_amb = 101.325 [kPa]\n",
      "T_W = 20[C]\n",
      "p[1] = p_amb\n",
      "rho_W = density(F$,P=p_amb,T=T_W)\n",
      "DELTAh = 2 [m]\n",
      "h[2] = 0[m]\n",
      "g=9.81 [m/s^2]\n",
      "c[1] = 0 [m/s]\n",
      "p[2] = p_amb\n",
      "! the '\\' is noted as a normal letter, that's mean 'k\\d'  is the variable name\n",
      "k\\d = 0.001 \t\t\t\t\t\"it's the relative roughness\"\n",
      "Duplicate i=1,2 \n",
      "\tp_tot[i] = p[i] *convert(kPa,Pa) + rho_W/2 *c[i]^2 + rho_w * g *h[i]\n",
      "End\n",
      "{p_tot[1] = p[1] *convert(kPa,Pa) + rho_W/2 *c[1]^2 + rho_w * g *h[1]\n",
      "p_tot[2] = p[2] *convert(kPa,Pa) + rho_W/2 *c[2]^2 + rho_w * g *h[2]}\n",
      "h[1] - h[2] = DELTAh\n",
      "p_tot[1] - DELTAp_L = p_tot[2]\n",
      "DELTAp_L = DELTAp_L_p + DELTAp_L_f\n",
      "DELTAp_L_f = rho_W/2 * c_p^2 *zeta_D\n",
      "$varinfo c_p units='m/s' lower=0\n",
      "$varinfo c[2] units='m/s' lower=0\n",
      "$varinfo Re units='' lower=0\n",
      "{! index: \n",
      "L ... losses\n",
      "p ... pipe\n",
      "f ... fixtures\n",
      "}\n",
      "DELTAp_L_p = rho_W/2 * c_p^2 *lambda *l_p/(d_p * convert(mm,m))\n",
      "l_p = 5[m]\n",
      "lambda = moodychart(Re, k\\d)\n",
      "V_dot = c_p *A_p\n",
      "V_dot = c[2] * A[2]\n",
      "A[2] = PI/4 *d[2]^2 *convert(mm^2,m^2)\n",
      "d[2] = 5[mm]\n",
      "Re = rho_W *c_p * d_p*convert(mm,m) / mu_W\n",
      "mu_W =viscosity(F$,T=T_W,P=p_amb)\n",
      "Call pipedimensions(DN, DELTAs$: d_p_o, d_p, DELTAs, A_p)\n",
      "variable_list: \n",
      " [\"F$ = 'water'\", 'p_amb = 101.325 [kPa]', 'T_W = 20[C]', 'p[1] = p_amb', 'DELTAh = 2 [m]', 'h[2] = 0[m]', 'g=9.81 [m/s^2]', 'c[1] = 0 [m/s]', 'p[2] = p_amb', \"$varinfo c_p units='m/s' lower=0\", \"$varinfo c[2] units='m/s' lower=0\", \"$varinfo Re units='' lower=0\", 'l_p = 5[m]', 'd[2] = 5[mm]']\n",
      "variable_name: \n",
      " ['F$ ', 'p_amb ', 'T_W ', 'p[1] ', 'DELTAh ', 'h[2] ', 'g', 'c[1] ', 'p[2] ', '$varinfo c_p units', '$varinfo c[2] units', '$varinfo Re units', 'l_p ', 'd[2] ']\n",
      "equation_list: \n",
      " [\"! the '\\\\' is noted as a normal letter. that's mean 'k\\\\d'  is the variable name\", 'k\\\\d = 0.001 \\t\\t\\t\\t\\t\"it\\'s the relative roughness\"', 'Duplicate i=1.2 ', 'End', 'h[1] - h[2] = DELTAh', 'p_tot[1] - DELTAp_L = p_tot[2]', 'DELTAp_L = DELTAp_L_p + DELTAp_L_f', 'DELTAp_L_f = rho_W/2 * c_p^2 *zeta_D', '{! index: ', 'L ... losses', 'p ... pipe', 'f ... fixtures', '}', 'V_dot = c_p *A_p', 'V_dot = c[2] * A[2]']\n",
      "function: \n",
      " ['rho_W = density(F$.P=p_amb.T=T_W)', '\\tp_tot[i] = p[i] *convert(kPa.Pa) + rho_W/2 *c[i]^2 + rho_w * g *h[i]', '{p_tot[1] = p[1] *convert(kPa.Pa) + rho_W/2 *c[1]^2 + rho_w * g *h[1]', 'p_tot[2] = p[2] *convert(kPa.Pa) + rho_W/2 *c[2]^2 + rho_w * g *h[2]}', 'DELTAp_L_p = rho_W/2 * c_p^2 *lambda *l_p/(d_p * convert(mm.m))', 'lambda = moodychart(Re. k\\\\d)', 'A[2] = PI/4 *d[2]^2 *convert(mm^2.m^2)', 'Re = rho_W *c_p * d_p*convert(mm.m) / mu_W', 'mu_W =viscosity(F$.T=T_W.P=p_amb)', 'Call pipedimensions(DN. DELTAs$: d_p_o. d_p. DELTAs. A_p)']\n"
     ]
    }
   ],
   "source": [
    "eq=[]\n",
    "eq_names=[]\n",
    "var=[]\n",
    "var_names=[]\n",
    "subs=[]\n",
    "\n",
    "for i in data.Equations:\n",
    "    print(i)\n",
    "    i=i.replace(\",\",\".\")\n",
    "    t=re.findall(r'[\\\\(*+-]',i)\n",
    "    #print(i,t)\n",
    "    if t==[] and (('[' in i) or ('\\'' in i)):\n",
    "        #print(t)\n",
    "        var.append(i)\n",
    "        name=i.split('=')\n",
    "        #print(name[0])\n",
    "        var_names.append(name[0])\n",
    "        \n",
    "    else:\n",
    "        t=re.findall(r'[()]',i)\n",
    "            \n",
    "        if t==[]:\n",
    "            eq.append(i)\n",
    "            name=i.split('=')\n",
    "                \n",
    "            eq_names.append(name[0])\n",
    "        else:\n",
    "            subs.append(i)\n",
    "                \n",
    "print('variable_list: \\n', var)\n",
    "print('variable_name: \\n', var_names)\n",
    "print('equation_list: \\n', eq)\n",
    "print('function: \\n', subs)"
   ]
  },
  {
   "cell_type": "code",
   "execution_count": null,
   "metadata": {},
   "outputs": [],
   "source": []
  }
 ],
 "metadata": {
  "kernelspec": {
   "display_name": "Python 3",
   "language": "python",
   "name": "python3"
  },
  "language_info": {
   "codemirror_mode": {
    "name": "ipython",
    "version": 3
   },
   "file_extension": ".py",
   "mimetype": "text/x-python",
   "name": "python",
   "nbconvert_exporter": "python",
   "pygments_lexer": "ipython3",
   "version": "3.8.5"
  }
 },
 "nbformat": 4,
 "nbformat_minor": 4
}
