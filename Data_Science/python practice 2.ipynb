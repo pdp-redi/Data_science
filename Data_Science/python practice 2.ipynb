{
 "cells": [
  {
   "cell_type": "code",
   "execution_count": 16,
   "metadata": {},
   "outputs": [
    {
     "name": "stdout",
     "output_type": "stream",
     "text": [
      "Type the grade of the First test:7\n",
      "Type the grade of the second test:7\n",
      "Type the number of absences:10\n",
      "Type the total number of classes:20\n",
      "Average grade: 7.0\n",
      "Attendance rate: 50.0%\n",
      "The student has failed due to an attendance rate lower than 80%.\n"
     ]
    }
   ],
   "source": [
    "grade1=float(input(\"Type the grade of the First test:\"))\n",
    "grade2=float(input(\"Type the grade of the second test:\"))\n",
    "\n",
    "absences=int(input(\"Type the number of absences:\"))\n",
    "Total_classes=int(input(\"Type the total number of classes:\"))\n",
    "\n",
    "avg_grade=(grade1+grade2)/2\n",
    "attendance=(Total_classes - absences)/Total_classes\n",
    "\n",
    "print(\"Average grade:\",round(avg_grade,2))\n",
    "print(\"Attendance rate:\",str(round((attendance*100),2))+'%')\n",
    "\n",
    "if(avg_grade>=6):\n",
    "    if(attendance>=0.8):\n",
    "        print(\"The student has been approved.\")\n",
    "    else:\n",
    "        print(\"The student has failed due to an attendance rate lower than 80%.\")\n",
    "elif(attendance>=0.8):\n",
    "     print(\"The student has failed due to an average grade lower than 6.0.\")\n",
    "else:\n",
    "    print(\"The student has failed due to an average grade lower than 6.0 and attendance rate lower than 80%.\")\n"
   ]
  },
  {
   "cell_type": "code",
   "execution_count": 17,
   "metadata": {},
   "outputs": [
    {
     "name": "stdout",
     "output_type": "stream",
     "text": [
      "Type the grade of the First test:7\n",
      "Type the grade of the second test:7\n",
      "Type the number of absences:22\n",
      "Type the total number of classes:20\n",
      "The student has failed.\n"
     ]
    }
   ],
   "source": [
    "grade1=float(input(\"Type the grade of the First test:\"))\n",
    "grade2=float(input(\"Type the grade of the second test:\"))\n",
    "\n",
    "absences=int(input(\"Type the number of absences:\"))\n",
    "Total_classes=int(input(\"Type the total number of classes:\"))\n",
    "\n",
    "avg_grade=(grade1+grade2)/2\n",
    "attendance=(Total_classes - absences)/Total_classes\n",
    "\n",
    "if(avg_grade>=6):\n",
    "    if(attendance>=0.8):\n",
    "        print(\"The student has been approved.\")\n",
    "    else:\n",
    "        print(\"The student has failed.\")\n",
    "else:\n",
    "     print(\"The student has failed.\")\n"
   ]
  },
  {
   "cell_type": "code",
   "execution_count": 18,
   "metadata": {},
   "outputs": [
    {
     "name": "stdout",
     "output_type": "stream",
     "text": [
      "Type the grade of the First test:7\n",
      "Type the grade of the second test:7\n",
      "Type the number of absences:2\n",
      "Type the total number of classes:20\n",
      "Average grade: 7.0\n",
      "Attendance rate: 90.0%\n",
      "The student has been approved.\n"
     ]
    }
   ],
   "source": [
    "# using AND/ OR\n",
    "grade1=float(input(\"Type the grade of the First test:\"))\n",
    "grade2=float(input(\"Type the grade of the second test:\"))\n",
    "\n",
    "absences=int(input(\"Type the number of absences:\"))\n",
    "Total_classes=int(input(\"Type the total number of classes:\"))\n",
    "\n",
    "avg_grade=(grade1+grade2)/2\n",
    "attendance=(Total_classes - absences)/Total_classes\n",
    "\n",
    "print(\"Average grade:\",round(avg_grade,2))\n",
    "print(\"Attendance rate:\",str(round((attendance*100),2))+'%')\n",
    "\n",
    "if(avg_grade>=6 and attendance>=0.8):\n",
    "        print(\"The student has been approved.\")\n",
    "        \n",
    "elif(avg_grade<6 and attendance<0.8):\n",
    "    print(\"The student has failed due to an average grade lower than 6.0 and attendance rate lower than 80%.\")\n",
    "    \n",
    "elif(attendance>=0.8):\n",
    "    print(\"The student has failed due to an average grade lower than 6.0.\")\n",
    "else:\n",
    "    print(\"The student has failed due to an attendance rate lower than 80%.\")\n",
    "\n",
    "\n"
   ]
  },
  {
   "cell_type": "code",
   "execution_count": 51,
   "metadata": {},
   "outputs": [
    {
     "name": "stdout",
     "output_type": "stream",
     "text": [
      "Type the person height in mts:1.67\n",
      "Type the person weight in kgs:80\n",
      "BMI_of_the_person: 28.69\n",
      "The person is over weight.\n"
     ]
    }
   ],
   "source": [
    "# exercise\n",
    "\n",
    "height=float(input(\"Type the person height in mts:\"))\n",
    "weight=float(input(\"Type the person weight in kgs:\"))\n",
    "\n",
    "BMI_of_the_person=weight/(height*height)\n",
    "print(\"BMI_of_the_person:\",round(BMI_of_the_person,2))\n",
    "\n",
    "if(BMI_of_the_person<=18.5):\n",
    "    print(\"The person is under weight.\")\n",
    "    \n",
    "elif((BMI_of_the_person>=18.5) and (BMI_of_the_person<=24.9)):\n",
    "        print(\"The person is Normal weight.\")\n",
    "    \n",
    "elif((BMI_of_the_person>=24.9) and (BMI_of_the_person<=29.9)):\n",
    "    print(\"The person is over weight.\")\n",
    "    \n",
    "elif(BMI_of_the_person>=30):\n",
    "        print(\"The person is obesity.\")\n",
    "        \n",
    "else:\n",
    "        print(\"The person is obesity.\")"
   ]
  },
  {
   "cell_type": "code",
   "execution_count": null,
   "metadata": {},
   "outputs": [],
   "source": [
    "#While loops\n",
    "\n",
    "x=0\n",
    "people=[]\n",
    "\n",
    "while x<3:\n",
    "    person=input(\"Type the name of the person:\")\n",
    "    people.append(person)\n",
    "    x+=1\n",
    "print(people)\n",
    "\n",
    "\n",
    "\n",
    "\n"
   ]
  },
  {
   "cell_type": "code",
   "execution_count": 7,
   "metadata": {},
   "outputs": [
    {
     "name": "stdout",
     "output_type": "stream",
     "text": [
      "Type the name of the person:jj\n",
      "['jj']\n",
      "Type the name of the person:kk\n",
      "['jj', 'kk']\n",
      "Type the name of the person:lll\n",
      "['jj', 'kk', 'lll']\n"
     ]
    }
   ],
   "source": [
    "people=[]\n",
    "\n",
    "while len(people)<3:\n",
    "    person=input(\"Type the name of the person:\")\n",
    "    people.append(person)\n",
    "\n",
    "    print(people)\n"
   ]
  },
  {
   "cell_type": "code",
   "execution_count": 13,
   "metadata": {},
   "outputs": [
    {
     "name": "stdout",
     "output_type": "stream",
     "text": [
      "I'm thinking a number between zero and ten. can you guess it?1\n",
      "nope. try again:2\n",
      "nope. try again:2\n",
      "nope. try again:3\n",
      "nope. try again:7\n",
      "nope. try again:5\n",
      "you guessed it 5\n"
     ]
    }
   ],
   "source": [
    "number=5\n",
    "guess=int(input(\"I'm thinking a number between zero and ten. can you guess it?\"))\n",
    "\n",
    "while True:\n",
    "    if guess==number:\n",
    "        break\n",
    "    else:\n",
    "        guess=int(input(\"nope. try again:\"))\n",
    "print(\"you guessed it\", number)"
   ]
  },
  {
   "cell_type": "code",
   "execution_count": 16,
   "metadata": {},
   "outputs": [
    {
     "name": "stdout",
     "output_type": "stream",
     "text": [
      "I'm thinking a number between zero and ten. can you guess it?5\n",
      "nope. try again:1\n",
      "nope. try again:9\n",
      "nope. try again:6\n",
      "nope. try again:7\n",
      "nope. try again:0\n",
      "nope. try again:3\n",
      "nope. try again:2\n",
      "you guessed it 2\n"
     ]
    }
   ],
   "source": [
    "import random\n",
    "number=random.randint(0,10)\n",
    "guess=int(input(\"I'm thinking a number between zero and ten. can you guess it?\"))\n",
    "\n",
    "while True:\n",
    "    if guess==number:\n",
    "        break\n",
    "    else:\n",
    "        guess=int(input(\"nope. try again:\"))\n",
    "print(\"you guessed it\", number)"
   ]
  },
  {
   "cell_type": "code",
   "execution_count": null,
   "metadata": {},
   "outputs": [],
   "source": [
    "# For loop\n",
    "\n",
    "\n",
    "\n",
    "\n",
    "\n",
    "\n"
   ]
  },
  {
   "cell_type": "code",
   "execution_count": 2,
   "metadata": {},
   "outputs": [
    {
     "name": "stdout",
     "output_type": "stream",
     "text": [
      "Type a number:test\n"
     ]
    },
    {
     "ename": "ValueError",
     "evalue": "could not convert string to float: 'test'",
     "output_type": "error",
     "traceback": [
      "\u001b[1;31m---------------------------------------------------------------------------\u001b[0m",
      "\u001b[1;31mValueError\u001b[0m                                Traceback (most recent call last)",
      "\u001b[1;32m<ipython-input-2-d462aecb0bc6>\u001b[0m in \u001b[0;36m<module>\u001b[1;34m\u001b[0m\n\u001b[0;32m      2\u001b[0m \u001b[1;31m#using try and error to analyse y pgm crashed\u001b[0m\u001b[1;33m\u001b[0m\u001b[1;33m\u001b[0m\u001b[1;33m\u001b[0m\u001b[0m\n\u001b[0;32m      3\u001b[0m \u001b[1;33m\u001b[0m\u001b[0m\n\u001b[1;32m----> 4\u001b[1;33m \u001b[0mnumber\u001b[0m\u001b[1;33m=\u001b[0m\u001b[0mfloat\u001b[0m\u001b[1;33m(\u001b[0m\u001b[0minput\u001b[0m\u001b[1;33m(\u001b[0m\u001b[1;34m\"Type a number:\"\u001b[0m\u001b[1;33m)\u001b[0m\u001b[1;33m)\u001b[0m\u001b[1;33m\u001b[0m\u001b[1;33m\u001b[0m\u001b[0m\n\u001b[0m",
      "\u001b[1;31mValueError\u001b[0m: could not convert string to float: 'test'"
     ]
    }
   ],
   "source": [
    "#error handling\n",
    "#using try and error to analyse y pgm crashed\n",
    "\n",
    "number=float(input(\"Type a number:\"))"
   ]
  },
  {
   "cell_type": "code",
   "execution_count": 4,
   "metadata": {},
   "outputs": [
    {
     "name": "stdout",
     "output_type": "stream",
     "text": [
      "Type a number:ten\n",
      "Invalid number\n"
     ]
    }
   ],
   "source": [
    "number=input(\"Type a number:\")\n",
    "\n",
    "try:\n",
    "    number=float(number)\n",
    "    print(\"The number is:\", number)\n",
    "except:\n",
    "    print(\"Invalid number\")"
   ]
  },
  {
   "cell_type": "code",
   "execution_count": 6,
   "metadata": {},
   "outputs": [
    {
     "name": "stdout",
     "output_type": "stream",
     "text": [
      "25\n"
     ]
    }
   ],
   "source": [
    "a=1\n",
    "b=24\n",
    "print(a+b)"
   ]
  },
  {
   "cell_type": "code",
   "execution_count": 8,
   "metadata": {},
   "outputs": [
    {
     "ename": "SyntaxError",
     "evalue": "invalid syntax (<ipython-input-8-ec2aeb6d1c9e>, line 1)",
     "output_type": "error",
     "traceback": [
      "\u001b[1;36m  File \u001b[1;32m\"<ipython-input-8-ec2aeb6d1c9e>\"\u001b[1;36m, line \u001b[1;32m1\u001b[0m\n\u001b[1;33m    F$\u001b[0m\n\u001b[1;37m     ^\u001b[0m\n\u001b[1;31mSyntaxError\u001b[0m\u001b[1;31m:\u001b[0m invalid syntax\n"
     ]
    }
   ],
   "source": [
    "F$"
   ]
  },
  {
   "cell_type": "code",
   "execution_count": 16,
   "metadata": {},
   "outputs": [
    {
     "name": "stdout",
     "output_type": "stream",
     "text": [
      "celsius: 37.78\n",
      "kelvin: 311.28\n",
      "hello abhi, how are you?\n"
     ]
    }
   ],
   "source": [
    "# functions\n",
    "def say_hello(person):\n",
    "    print(\"hello \"+person+\", how are you?\")\n",
    "    \n",
    "def fahr2celsius(fahr):\n",
    "    celsius=(5*(fahr-32))/9\n",
    "    return celsius\n",
    "\n",
    "print(\"celsius:\",round(fahr2celsius(100),2))\n",
    "print(\"kelvin:\",round(fahr2celsius(100)+273.5,2))\n",
    "\n",
    "say_hello(\"abhi\")\n",
    "\n",
    "\n",
    "\n",
    "\n",
    "\n",
    "\n",
    "\n"
   ]
  },
  {
   "cell_type": "code",
   "execution_count": null,
   "metadata": {},
   "outputs": [],
   "source": []
  }
 ],
 "metadata": {
  "kernelspec": {
   "display_name": "Python 3",
   "language": "python",
   "name": "python3"
  },
  "language_info": {
   "codemirror_mode": {
    "name": "ipython",
    "version": 3
   },
   "file_extension": ".py",
   "mimetype": "text/x-python",
   "name": "python",
   "nbconvert_exporter": "python",
   "pygments_lexer": "ipython3",
   "version": "3.8.5"
  }
 },
 "nbformat": 4,
 "nbformat_minor": 4
}
