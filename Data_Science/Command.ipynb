{
 "cells": [
  {
   "cell_type": "markdown",
   "metadata": {},
   "source": [
    "# Shell command "
   ]
  },
  {
   "cell_type": "markdown",
   "metadata": {},
   "source": [
    "[shell command](https://ss64.com/bash/)"
   ]
  },
  {
   "cell_type": "markdown",
   "metadata": {},
   "source": [
    "## most  commonly used shell command\n",
    "\n",
    "- ls\n",
    "- cd\n",
    "- mkdir\n",
    "- whoami\n",
    "- touch\n",
    "- locate\n",
    "- rm\n",
    "- chmod\n",
    "- head\n",
    "- cat\n",
    "- tail\n",
    "- cut\n",
    "- cp\n",
    "- grep\n",
    "- ssh\n",
    "- mv\n",
    "- ip addr show /ifconfig\n",
    "- echo\n",
    "- curl\n",
    "- wget\n",
    "- man\n",
    "- pwd\n",
    "\n"
   ]
  },
  {
   "cell_type": "code",
   "execution_count": 3,
   "metadata": {
    "ExecuteTime": {
     "end_time": "2021-09-15T07:21:22.274401Z",
     "start_time": "2021-09-15T07:21:22.149229Z"
    },
    "scrolled": true
   },
   "outputs": [
    {
     "name": "stdout",
     "output_type": "stream",
     "text": [
      "/Users/bhuwankarki/Desktop/DS_ML_2021_09/shell\r\n"
     ]
    }
   ],
   "source": [
    "# pwd list the parent wporking dir\n",
    "!pwd"
   ]
  },
  {
   "cell_type": "code",
   "execution_count": 4,
   "metadata": {
    "ExecuteTime": {
     "end_time": "2021-09-15T07:21:26.799326Z",
     "start_time": "2021-09-15T07:21:26.675275Z"
    }
   },
   "outputs": [],
   "source": [
    "man pwd"
   ]
  },
  {
   "cell_type": "code",
   "execution_count": 7,
   "metadata": {
    "ExecuteTime": {
     "end_time": "2021-09-15T07:21:54.626308Z",
     "start_time": "2021-09-15T07:21:54.622207Z"
    }
   },
   "outputs": [
    {
     "data": {
      "text/plain": [
       "'/Users/bhuwankarki/Desktop/DS_ML_2021_09/shell'"
      ]
     },
     "execution_count": 7,
     "metadata": {},
     "output_type": "execute_result"
    }
   ],
   "source": [
    "pwd -P"
   ]
  },
  {
   "cell_type": "code",
   "execution_count": null,
   "metadata": {},
   "outputs": [],
   "source": []
  },
  {
   "cell_type": "markdown",
   "metadata": {},
   "source": [
    "### ls\n",
    "\n",
    "- list all the files and folder in current dir"
   ]
  },
  {
   "cell_type": "code",
   "execution_count": 8,
   "metadata": {
    "ExecuteTime": {
     "end_time": "2021-09-15T07:22:28.573160Z",
     "start_time": "2021-09-15T07:22:28.448498Z"
    }
   },
   "outputs": [
    {
     "name": "stdout",
     "output_type": "stream",
     "text": [
      "\u001b[1m\u001b[36m.\u001b[m\u001b[m/                  \u001b[1m\u001b[36m..\u001b[m\u001b[m/                 \u001b[1m\u001b[36m.ipynb_checkpoints\u001b[m\u001b[m/ Command.ipynb\r\n"
     ]
    }
   ],
   "source": [
    "ls -a"
   ]
  },
  {
   "cell_type": "code",
   "execution_count": 12,
   "metadata": {
    "ExecuteTime": {
     "end_time": "2021-09-15T07:23:18.737371Z",
     "start_time": "2021-09-15T07:23:18.608092Z"
    }
   },
   "outputs": [
    {
     "name": "stdout",
     "output_type": "stream",
     "text": [
      "total 8\r\n",
      "drwxr-xr-x  4 bhuwankarki  staff   128B Sep 15 10:21 \u001b[1m\u001b[36m.\u001b[m\u001b[m\r\n",
      "drwxr-xr-x  4 bhuwankarki  staff   128B Sep 15 10:14 \u001b[1m\u001b[36m..\u001b[m\u001b[m\r\n",
      "drwxr-xr-x  3 bhuwankarki  staff    96B Sep 15 10:15 \u001b[1m\u001b[36m.ipynb_checkpoints\u001b[m\u001b[m\r\n",
      "-rw-r--r--  1 bhuwankarki  staff   2.7K Sep 15 10:21 Command.ipynb\r\n"
     ]
    }
   ],
   "source": [
    "!ls -l -h -a"
   ]
  },
  {
   "cell_type": "code",
   "execution_count": 13,
   "metadata": {
    "ExecuteTime": {
     "end_time": "2021-09-15T07:23:36.657186Z",
     "start_time": "2021-09-15T07:23:36.532028Z"
    }
   },
   "outputs": [
    {
     "name": "stdout",
     "output_type": "stream",
     "text": [
      "total 16\r\n",
      "drwxr-xr-x  4 bhuwankarki  staff   128B Sep 15 10:23 \u001b[1m\u001b[36m.\u001b[m\u001b[m\r\n",
      "drwxr-xr-x  4 bhuwankarki  staff   128B Sep 15 10:14 \u001b[1m\u001b[36m..\u001b[m\u001b[m\r\n",
      "drwxr-xr-x  3 bhuwankarki  staff    96B Sep 15 10:15 \u001b[1m\u001b[36m.ipynb_checkpoints\u001b[m\u001b[m\r\n",
      "-rw-r--r--  1 bhuwankarki  staff   5.1K Sep 15 10:23 Command.ipynb\r\n"
     ]
    }
   ],
   "source": [
    "!ls -lha"
   ]
  },
  {
   "cell_type": "code",
   "execution_count": 15,
   "metadata": {
    "ExecuteTime": {
     "end_time": "2021-09-15T07:24:53.080449Z",
     "start_time": "2021-09-15T07:24:52.954751Z"
    }
   },
   "outputs": [
    {
     "name": "stdout",
     "output_type": "stream",
     "text": [
      "total 16\r\n",
      "21812938 -rw-r--r--  1 501  20  5186 Sep 15 10:23 Command.ipynb\r\n"
     ]
    }
   ],
   "source": [
    "! ls -in"
   ]
  },
  {
   "cell_type": "code",
   "execution_count": 17,
   "metadata": {
    "ExecuteTime": {
     "end_time": "2021-09-15T07:28:10.773751Z",
     "start_time": "2021-09-15T07:28:10.646264Z"
    }
   },
   "outputs": [
    {
     "name": "stdout",
     "output_type": "stream",
     "text": [
      "0\r\n"
     ]
    }
   ],
   "source": [
    "!echo $? #-------> success"
   ]
  },
  {
   "cell_type": "code",
   "execution_count": 19,
   "metadata": {
    "ExecuteTime": {
     "end_time": "2021-09-15T07:29:28.684964Z",
     "start_time": "2021-09-15T07:29:28.668212Z"
    }
   },
   "outputs": [
    {
     "data": {
      "text/plain": [
       "['cp: hello.txt: No such file or directory', '1']"
      ]
     },
     "execution_count": 19,
     "metadata": {},
     "output_type": "execute_result"
    }
   ],
   "source": [
    "%%!\n",
    "cp hello.txt hello\n",
    "echo $?  #---> greater than 0 notsuccess"
   ]
  },
  {
   "cell_type": "code",
   "execution_count": null,
   "metadata": {
    "ExecuteTime": {
     "end_time": "2021-09-15T07:34:34.856931Z",
     "start_time": "2021-09-15T07:34:34.727922Z"
    }
   },
   "outputs": [],
   "source": []
  },
  {
   "cell_type": "markdown",
   "metadata": {
    "ExecuteTime": {
     "end_time": "2021-09-15T07:36:05.063490Z",
     "start_time": "2021-09-15T07:36:05.059558Z"
    }
   },
   "source": [
    "### mkdir \n",
    "- make a dir"
   ]
  },
  {
   "cell_type": "code",
   "execution_count": 29,
   "metadata": {
    "ExecuteTime": {
     "end_time": "2021-09-15T07:36:21.423735Z",
     "start_time": "2021-09-15T07:36:21.297311Z"
    }
   },
   "outputs": [],
   "source": [
    "mkdir data"
   ]
  },
  {
   "cell_type": "code",
   "execution_count": 30,
   "metadata": {
    "ExecuteTime": {
     "end_time": "2021-09-15T07:36:23.647414Z",
     "start_time": "2021-09-15T07:36:23.524920Z"
    }
   },
   "outputs": [
    {
     "name": "stdout",
     "output_type": "stream",
     "text": [
      "Command.ipynb  \u001b[1m\u001b[36mdata\u001b[m\u001b[m/\r\n"
     ]
    }
   ],
   "source": [
    "ls"
   ]
  },
  {
   "cell_type": "code",
   "execution_count": 40,
   "metadata": {
    "ExecuteTime": {
     "end_time": "2021-09-15T07:40:44.872091Z",
     "start_time": "2021-09-15T07:40:44.747876Z"
    }
   },
   "outputs": [],
   "source": [
    "mkdir Test dir  #----> create a multiple dir by giving the dir name with space"
   ]
  },
  {
   "cell_type": "code",
   "execution_count": 41,
   "metadata": {
    "ExecuteTime": {
     "end_time": "2021-09-15T07:40:47.926973Z",
     "start_time": "2021-09-15T07:40:47.801448Z"
    }
   },
   "outputs": [
    {
     "name": "stdout",
     "output_type": "stream",
     "text": [
      "Command.ipynb  \u001b[1m\u001b[36mTest\u001b[m\u001b[m/          \u001b[1m\u001b[36mdata\u001b[m\u001b[m/          \u001b[1m\u001b[36mdir\u001b[m\u001b[m/\r\n"
     ]
    }
   ],
   "source": [
    "ls"
   ]
  },
  {
   "cell_type": "code",
   "execution_count": null,
   "metadata": {},
   "outputs": [],
   "source": []
  },
  {
   "cell_type": "markdown",
   "metadata": {},
   "source": [
    "### cd\n",
    "- change a dir"
   ]
  },
  {
   "cell_type": "code",
   "execution_count": 32,
   "metadata": {
    "ExecuteTime": {
     "end_time": "2021-09-15T07:37:57.429309Z",
     "start_time": "2021-09-15T07:37:57.422909Z"
    }
   },
   "outputs": [
    {
     "name": "stdout",
     "output_type": "stream",
     "text": [
      "/Users/bhuwankarki/Desktop/DS_ML_2021_09/shell/data\n"
     ]
    }
   ],
   "source": [
    "cd data"
   ]
  },
  {
   "cell_type": "code",
   "execution_count": 33,
   "metadata": {
    "ExecuteTime": {
     "end_time": "2021-09-15T07:38:04.599982Z",
     "start_time": "2021-09-15T07:38:04.595871Z"
    }
   },
   "outputs": [
    {
     "data": {
      "text/plain": [
       "'/Users/bhuwankarki/Desktop/DS_ML_2021_09/shell/data'"
      ]
     },
     "execution_count": 33,
     "metadata": {},
     "output_type": "execute_result"
    }
   ],
   "source": [
    "pwd"
   ]
  },
  {
   "cell_type": "code",
   "execution_count": 34,
   "metadata": {
    "ExecuteTime": {
     "end_time": "2021-09-15T07:38:13.189732Z",
     "start_time": "2021-09-15T07:38:13.065926Z"
    }
   },
   "outputs": [],
   "source": [
    "ls"
   ]
  },
  {
   "cell_type": "markdown",
   "metadata": {},
   "source": [
    " - go back `.. ` go back"
   ]
  },
  {
   "cell_type": "code",
   "execution_count": 35,
   "metadata": {
    "ExecuteTime": {
     "end_time": "2021-09-15T07:38:49.829463Z",
     "start_time": "2021-09-15T07:38:49.825430Z"
    }
   },
   "outputs": [
    {
     "name": "stdout",
     "output_type": "stream",
     "text": [
      "/Users/bhuwankarki/Desktop/DS_ML_2021_09/shell\n"
     ]
    }
   ],
   "source": [
    "cd .."
   ]
  },
  {
   "cell_type": "code",
   "execution_count": 36,
   "metadata": {
    "ExecuteTime": {
     "end_time": "2021-09-15T07:38:52.932254Z",
     "start_time": "2021-09-15T07:38:52.801655Z"
    }
   },
   "outputs": [
    {
     "name": "stdout",
     "output_type": "stream",
     "text": [
      "Command.ipynb  \u001b[1m\u001b[36mdata\u001b[m\u001b[m/\r\n"
     ]
    }
   ],
   "source": [
    "ls"
   ]
  },
  {
   "cell_type": "markdown",
   "metadata": {},
   "source": [
    "- go to the main user dir\n",
    "`cd`"
   ]
  },
  {
   "cell_type": "code",
   "execution_count": 37,
   "metadata": {
    "ExecuteTime": {
     "end_time": "2021-09-15T07:39:55.102402Z",
     "start_time": "2021-09-15T07:39:54.975491Z"
    }
   },
   "outputs": [],
   "source": [
    "!cd "
   ]
  },
  {
   "cell_type": "code",
   "execution_count": 38,
   "metadata": {
    "ExecuteTime": {
     "end_time": "2021-09-15T07:39:57.508568Z",
     "start_time": "2021-09-15T07:39:57.504281Z"
    }
   },
   "outputs": [
    {
     "data": {
      "text/plain": [
       "'/Users/bhuwankarki/Desktop/DS_ML_2021_09/shell'"
      ]
     },
     "execution_count": 38,
     "metadata": {},
     "output_type": "execute_result"
    }
   ],
   "source": [
    "pwd"
   ]
  },
  {
   "cell_type": "code",
   "execution_count": 39,
   "metadata": {
    "ExecuteTime": {
     "end_time": "2021-09-15T07:40:12.783240Z",
     "start_time": "2021-09-15T07:40:12.658283Z"
    }
   },
   "outputs": [
    {
     "name": "stdout",
     "output_type": "stream",
     "text": [
      "Command.ipynb  \u001b[1m\u001b[36mdata\u001b[m\u001b[m/\r\n"
     ]
    }
   ],
   "source": [
    "ls"
   ]
  },
  {
   "cell_type": "code",
   "execution_count": 42,
   "metadata": {
    "ExecuteTime": {
     "end_time": "2021-09-15T07:41:47.934638Z",
     "start_time": "2021-09-15T07:41:47.804087Z"
    }
   },
   "outputs": [
    {
     "name": "stdout",
     "output_type": "stream",
     "text": [
      "Command.ipynb    \u001b[1m\u001b[36mdata\u001b[m\u001b[m/            \u001b[1m\u001b[36muntitled folder\u001b[m\u001b[m/\r\n",
      "\u001b[1m\u001b[36mTest\u001b[m\u001b[m/            \u001b[1m\u001b[36mdir\u001b[m\u001b[m/\r\n"
     ]
    }
   ],
   "source": [
    "ls"
   ]
  },
  {
   "cell_type": "code",
   "execution_count": 44,
   "metadata": {
    "ExecuteTime": {
     "end_time": "2021-09-15T07:42:20.367327Z",
     "start_time": "2021-09-15T07:42:20.244177Z"
    }
   },
   "outputs": [
    {
     "name": "stdout",
     "output_type": "stream",
     "text": [
      "zsh:cd:1: string not in pwd: untitled\r\n"
     ]
    }
   ],
   "source": [
    "!cd untitled folder"
   ]
  },
  {
   "cell_type": "markdown",
   "metadata": {},
   "source": [
    "-  when filename or dirname is seperated by space use `\\`"
   ]
  },
  {
   "cell_type": "code",
   "execution_count": 49,
   "metadata": {
    "ExecuteTime": {
     "end_time": "2021-09-15T07:44:05.041866Z",
     "start_time": "2021-09-15T07:44:05.036593Z"
    }
   },
   "outputs": [
    {
     "name": "stdout",
     "output_type": "stream",
     "text": [
      "/Users/bhuwankarki/Desktop/DS_ML_2021_09/shell/untitled folder\n"
     ]
    }
   ],
   "source": [
    "%cd untitled\\ folder"
   ]
  },
  {
   "cell_type": "code",
   "execution_count": 50,
   "metadata": {
    "ExecuteTime": {
     "end_time": "2021-09-15T07:44:08.830928Z",
     "start_time": "2021-09-15T07:44:08.827380Z"
    }
   },
   "outputs": [
    {
     "data": {
      "text/plain": [
       "'/Users/bhuwankarki/Desktop/DS_ML_2021_09/shell/untitled folder'"
      ]
     },
     "execution_count": 50,
     "metadata": {},
     "output_type": "execute_result"
    }
   ],
   "source": [
    "pwd"
   ]
  },
  {
   "cell_type": "code",
   "execution_count": null,
   "metadata": {},
   "outputs": [],
   "source": []
  },
  {
   "cell_type": "markdown",
   "metadata": {},
   "source": [
    "### rmdir \n",
    "- remove a dir ( remove the empty dir)"
   ]
  },
  {
   "cell_type": "code",
   "execution_count": 52,
   "metadata": {
    "ExecuteTime": {
     "end_time": "2021-09-15T07:45:18.455909Z",
     "start_time": "2021-09-15T07:45:18.451823Z"
    }
   },
   "outputs": [
    {
     "name": "stdout",
     "output_type": "stream",
     "text": [
      "/Users/bhuwankarki/Desktop/DS_ML_2021_09/shell\n"
     ]
    }
   ],
   "source": [
    "cd .."
   ]
  },
  {
   "cell_type": "code",
   "execution_count": 53,
   "metadata": {
    "ExecuteTime": {
     "end_time": "2021-09-15T07:45:21.243200Z",
     "start_time": "2021-09-15T07:45:21.117396Z"
    }
   },
   "outputs": [
    {
     "name": "stdout",
     "output_type": "stream",
     "text": [
      "Command.ipynb    \u001b[1m\u001b[36mdata\u001b[m\u001b[m/            \u001b[1m\u001b[36muntitled folder\u001b[m\u001b[m/\r\n",
      "\u001b[1m\u001b[36mTest\u001b[m\u001b[m/            \u001b[1m\u001b[36mdir\u001b[m\u001b[m/\r\n"
     ]
    }
   ],
   "source": [
    "ls"
   ]
  },
  {
   "cell_type": "code",
   "execution_count": 54,
   "metadata": {
    "ExecuteTime": {
     "end_time": "2021-09-15T07:45:35.148197Z",
     "start_time": "2021-09-15T07:45:35.005147Z"
    }
   },
   "outputs": [],
   "source": [
    "rmdir Test dir # ----> remove a dir"
   ]
  },
  {
   "cell_type": "code",
   "execution_count": 55,
   "metadata": {
    "ExecuteTime": {
     "end_time": "2021-09-15T07:45:37.262344Z",
     "start_time": "2021-09-15T07:45:37.135399Z"
    }
   },
   "outputs": [
    {
     "name": "stdout",
     "output_type": "stream",
     "text": [
      "Command.ipynb    \u001b[1m\u001b[36mdata\u001b[m\u001b[m/            \u001b[1m\u001b[36muntitled folder\u001b[m\u001b[m/\r\n"
     ]
    }
   ],
   "source": [
    "ls"
   ]
  },
  {
   "cell_type": "code",
   "execution_count": null,
   "metadata": {},
   "outputs": [],
   "source": [
    "\n"
   ]
  },
  {
   "cell_type": "code",
   "execution_count": 56,
   "metadata": {
    "ExecuteTime": {
     "end_time": "2021-09-15T07:46:32.677444Z",
     "start_time": "2021-09-15T07:46:32.675140Z"
    }
   },
   "outputs": [],
   "source": [
    "# remove a dir with file inside it"
   ]
  },
  {
   "cell_type": "code",
   "execution_count": 57,
   "metadata": {
    "ExecuteTime": {
     "end_time": "2021-09-15T07:46:45.925799Z",
     "start_time": "2021-09-15T07:46:45.800040Z"
    }
   },
   "outputs": [
    {
     "name": "stdout",
     "output_type": "stream",
     "text": [
      "rmdir: untitled folder: Directory not empty\r\n"
     ]
    }
   ],
   "source": [
    "rmdir untitled\\ folder"
   ]
  },
  {
   "cell_type": "markdown",
   "metadata": {},
   "source": [
    "### touch\n",
    "- used to creat a file"
   ]
  },
  {
   "cell_type": "code",
   "execution_count": 58,
   "metadata": {
    "ExecuteTime": {
     "end_time": "2021-09-15T07:48:40.358049Z",
     "start_time": "2021-09-15T07:48:40.233912Z"
    }
   },
   "outputs": [
    {
     "name": "stdout",
     "output_type": "stream",
     "text": [
      "Command.ipynb    \u001b[1m\u001b[36mdata\u001b[m\u001b[m/            \u001b[1m\u001b[36muntitled folder\u001b[m\u001b[m/\r\n"
     ]
    }
   ],
   "source": [
    "ls\n"
   ]
  },
  {
   "cell_type": "code",
   "execution_count": 59,
   "metadata": {
    "ExecuteTime": {
     "end_time": "2021-09-15T07:48:43.923907Z",
     "start_time": "2021-09-15T07:48:43.918828Z"
    }
   },
   "outputs": [
    {
     "name": "stdout",
     "output_type": "stream",
     "text": [
      "/Users/bhuwankarki/Desktop/DS_ML_2021_09/shell/data\n"
     ]
    }
   ],
   "source": [
    "cd data"
   ]
  },
  {
   "cell_type": "code",
   "execution_count": 63,
   "metadata": {
    "ExecuteTime": {
     "end_time": "2021-09-15T07:49:11.202755Z",
     "start_time": "2021-09-15T07:49:11.199244Z"
    }
   },
   "outputs": [
    {
     "ename": "SyntaxError",
     "evalue": "invalid syntax (<ipython-input-63-2ed7f4bc6db0>, line 1)",
     "output_type": "error",
     "traceback": [
      "\u001b[0;36m  File \u001b[0;32m\"<ipython-input-63-2ed7f4bc6db0>\"\u001b[0;36m, line \u001b[0;32m1\u001b[0m\n\u001b[0;31m    touch text.txt\u001b[0m\n\u001b[0m          ^\u001b[0m\n\u001b[0;31mSyntaxError\u001b[0m\u001b[0;31m:\u001b[0m invalid syntax\n"
     ]
    }
   ],
   "source": [
    "touch text.txt"
   ]
  },
  {
   "cell_type": "code",
   "execution_count": 62,
   "metadata": {
    "ExecuteTime": {
     "end_time": "2021-09-15T07:48:56.777073Z",
     "start_time": "2021-09-15T07:48:56.647216Z"
    }
   },
   "outputs": [],
   "source": [
    "!touch text.txt\n"
   ]
  },
  {
   "cell_type": "code",
   "execution_count": 64,
   "metadata": {
    "ExecuteTime": {
     "end_time": "2021-09-15T07:49:23.742108Z",
     "start_time": "2021-09-15T07:49:23.616453Z"
    }
   },
   "outputs": [
    {
     "name": "stdout",
     "output_type": "stream",
     "text": [
      "text.txt\r\n"
     ]
    }
   ],
   "source": [
    "ls"
   ]
  },
  {
   "cell_type": "code",
   "execution_count": null,
   "metadata": {},
   "outputs": [],
   "source": []
  },
  {
   "cell_type": "markdown",
   "metadata": {
    "ExecuteTime": {
     "end_time": "2021-09-15T07:51:11.406160Z",
     "start_time": "2021-09-15T07:51:11.402519Z"
    }
   },
   "source": [
    "### rm\n",
    "- use to delete file and dir\n"
   ]
  },
  {
   "cell_type": "code",
   "execution_count": 66,
   "metadata": {
    "ExecuteTime": {
     "end_time": "2021-09-15T07:51:24.650994Z",
     "start_time": "2021-09-15T07:51:24.518884Z"
    }
   },
   "outputs": [],
   "source": [
    "rm text.txt"
   ]
  },
  {
   "cell_type": "code",
   "execution_count": 67,
   "metadata": {
    "ExecuteTime": {
     "end_time": "2021-09-15T07:51:26.639324Z",
     "start_time": "2021-09-15T07:51:26.515199Z"
    }
   },
   "outputs": [],
   "source": [
    "ls"
   ]
  },
  {
   "cell_type": "code",
   "execution_count": 68,
   "metadata": {
    "ExecuteTime": {
     "end_time": "2021-09-15T07:51:58.298994Z",
     "start_time": "2021-09-15T07:51:58.274071Z"
    }
   },
   "outputs": [
    {
     "data": {
      "text/plain": [
       "['rm: data: is a directory']"
      ]
     },
     "execution_count": 68,
     "metadata": {},
     "output_type": "execute_result"
    }
   ],
   "source": [
    "%%!\n",
    "touch text.txt\n",
    "cd ..\n",
    "rm data"
   ]
  },
  {
   "cell_type": "code",
   "execution_count": 71,
   "metadata": {
    "ExecuteTime": {
     "end_time": "2021-09-15T07:52:27.988509Z",
     "start_time": "2021-09-15T07:52:27.983058Z"
    }
   },
   "outputs": [
    {
     "name": "stdout",
     "output_type": "stream",
     "text": [
      "/Users/bhuwankarki/Desktop/DS_ML_2021_09/shell\n"
     ]
    }
   ],
   "source": [
    "cd .."
   ]
  },
  {
   "cell_type": "code",
   "execution_count": 73,
   "metadata": {
    "ExecuteTime": {
     "end_time": "2021-09-15T07:52:35.894063Z",
     "start_time": "2021-09-15T07:52:35.768379Z"
    }
   },
   "outputs": [
    {
     "name": "stdout",
     "output_type": "stream",
     "text": [
      "rm: data: is a directory\r\n"
     ]
    }
   ],
   "source": [
    "rm data\n"
   ]
  },
  {
   "cell_type": "code",
   "execution_count": 74,
   "metadata": {
    "ExecuteTime": {
     "end_time": "2021-09-15T07:54:10.565946Z",
     "start_time": "2021-09-15T07:54:10.440418Z"
    }
   },
   "outputs": [],
   "source": [
    "# remove a folder and its content\n",
    "! rm  -r data"
   ]
  },
  {
   "cell_type": "code",
   "execution_count": 75,
   "metadata": {
    "ExecuteTime": {
     "end_time": "2021-09-15T07:54:13.376794Z",
     "start_time": "2021-09-15T07:54:13.253338Z"
    }
   },
   "outputs": [
    {
     "name": "stdout",
     "output_type": "stream",
     "text": [
      "Command.ipynb    \u001b[1m\u001b[36muntitled folder\u001b[m\u001b[m/\r\n"
     ]
    }
   ],
   "source": [
    "ls"
   ]
  },
  {
   "cell_type": "code",
   "execution_count": null,
   "metadata": {
    "ExecuteTime": {
     "end_time": "2021-09-15T07:55:08.124358Z",
     "start_time": "2021-09-15T07:54:40.336148Z"
    }
   },
   "outputs": [],
   "source": []
  },
  {
   "cell_type": "markdown",
   "metadata": {},
   "source": [
    "### inbuild  text editor\n",
    "- nano\n",
    "- vim\n",
    "-vi"
   ]
  },
  {
   "cell_type": "markdown",
   "metadata": {
    "ExecuteTime": {
     "end_time": "2021-09-15T08:00:49.678949Z",
     "start_time": "2021-09-15T08:00:49.675378Z"
    }
   },
   "source": [
    "### cp \n",
    "- copy a file\n",
    "- two arg\n",
    "    - location of file to be copied\n",
    "    - where to copy\n",
    "- `cp source dest`\n"
   ]
  },
  {
   "cell_type": "code",
   "execution_count": 79,
   "metadata": {
    "ExecuteTime": {
     "end_time": "2021-09-15T08:01:51.992586Z",
     "start_time": "2021-09-15T08:01:51.865576Z"
    }
   },
   "outputs": [
    {
     "name": "stdout",
     "output_type": "stream",
     "text": [
      "Command.ipynb    \u001b[1m\u001b[36muntitled folder\u001b[m\u001b[m/\r\n"
     ]
    }
   ],
   "source": [
    "ls\n"
   ]
  },
  {
   "cell_type": "code",
   "execution_count": 80,
   "metadata": {
    "ExecuteTime": {
     "end_time": "2021-09-15T08:02:19.011686Z",
     "start_time": "2021-09-15T08:02:18.882521Z"
    }
   },
   "outputs": [],
   "source": [
    "cp untitled\\ folder/test.txt text.txt\n"
   ]
  },
  {
   "cell_type": "code",
   "execution_count": 81,
   "metadata": {
    "ExecuteTime": {
     "end_time": "2021-09-15T08:02:21.147486Z",
     "start_time": "2021-09-15T08:02:21.016047Z"
    }
   },
   "outputs": [
    {
     "name": "stdout",
     "output_type": "stream",
     "text": [
      "Command.ipynb    text.txt         \u001b[1m\u001b[36muntitled folder\u001b[m\u001b[m/\r\n"
     ]
    }
   ],
   "source": [
    "ls"
   ]
  },
  {
   "cell_type": "code",
   "execution_count": null,
   "metadata": {},
   "outputs": [],
   "source": []
  },
  {
   "cell_type": "markdown",
   "metadata": {},
   "source": [
    "### cat \n",
    "- get the content of the file"
   ]
  },
  {
   "cell_type": "code",
   "execution_count": 83,
   "metadata": {
    "ExecuteTime": {
     "end_time": "2021-09-15T08:03:53.839868Z",
     "start_time": "2021-09-15T08:03:53.703368Z"
    }
   },
   "outputs": [
    {
     "name": "stdout",
     "output_type": "stream",
     "text": [
      "this is a text file\r\n"
     ]
    }
   ],
   "source": [
    "cat text.txt"
   ]
  },
  {
   "cell_type": "markdown",
   "metadata": {},
   "source": [
    "### mv \n",
    "- move a file\n",
    "- mv used to rename a file\n"
   ]
  },
  {
   "cell_type": "code",
   "execution_count": 82,
   "metadata": {
    "ExecuteTime": {
     "end_time": "2021-09-15T08:03:27.022659Z",
     "start_time": "2021-09-15T08:03:26.893126Z"
    }
   },
   "outputs": [
    {
     "name": "stdout",
     "output_type": "stream",
     "text": [
      "this is a text file\r\n"
     ]
    }
   ],
   "source": [
    "cat text.txt"
   ]
  },
  {
   "cell_type": "code",
   "execution_count": 84,
   "metadata": {
    "ExecuteTime": {
     "end_time": "2021-09-15T08:04:03.116203Z",
     "start_time": "2021-09-15T08:04:02.987829Z"
    }
   },
   "outputs": [],
   "source": [
    "mv text.txt test.md"
   ]
  },
  {
   "cell_type": "code",
   "execution_count": 85,
   "metadata": {
    "ExecuteTime": {
     "end_time": "2021-09-15T08:04:05.139308Z",
     "start_time": "2021-09-15T08:04:05.015350Z"
    }
   },
   "outputs": [
    {
     "name": "stdout",
     "output_type": "stream",
     "text": [
      "Command.ipynb    test.md          \u001b[1m\u001b[36muntitled folder\u001b[m\u001b[m/\r\n"
     ]
    }
   ],
   "source": [
    "ls"
   ]
  },
  {
   "cell_type": "code",
   "execution_count": null,
   "metadata": {},
   "outputs": [],
   "source": []
  },
  {
   "cell_type": "markdown",
   "metadata": {},
   "source": [
    "### locate\n",
    "\n",
    "- used to find the file in the linux system"
   ]
  },
  {
   "cell_type": "code",
   "execution_count": 91,
   "metadata": {
    "ExecuteTime": {
     "end_time": "2021-09-15T08:06:21.128320Z",
     "start_time": "2021-09-15T08:06:20.209107Z"
    }
   },
   "outputs": [
    {
     "name": "stdout",
     "output_type": "stream",
     "text": [
      "/Applications/Docker.app/Contents/Resources/snyk/docker/help/commands-docs/test.md\n",
      "/Applications/Docker.app/Contents/Resources/snyk/docker/help/commands-md/snyk-test.md\n",
      "/Applications/Docker.app/Contents/Resources/snyk/docker/node-v12.18.3-darwin-x64/lib/node_modules/npm/docs/content/cli-commands/npm-install-ci-test.md\n",
      "/Applications/Docker.app/Contents/Resources/snyk/docker/node-v12.18.3-darwin-x64/lib/node_modules/npm/docs/content/cli-commands/npm-install-test.md\n",
      "/Applications/Docker.app/Contents/Resources/snyk/docker/node-v12.18.3-darwin-x64/lib/node_modules/npm/docs/content/cli-commands/npm-test.md\n",
      "/opt/anaconda3/lib/node_modules/npm/doc/cli/npm-install-ci-test.md\n",
      "/opt/anaconda3/lib/node_modules/npm/doc/cli/npm-install-test.md\n",
      "/opt/anaconda3/lib/node_modules/npm/doc/cli/npm-test.md\n",
      "/opt/anaconda3/pkgs/nodejs-10.13.0-h0a44026_0/lib/node_modules/npm/doc/cli/npm-install-ci-test.md\n",
      "/opt/anaconda3/pkgs/nodejs-10.13.0-h0a44026_0/lib/node_modules/npm/doc/cli/npm-install-test.md\n",
      "/opt/anaconda3/pkgs/nodejs-10.13.0-h0a44026_0/lib/node_modules/npm/doc/cli/npm-test.md\n",
      "/opt/anaconda3/pkgs/nodejs-11.6.0-hfc679d8_0/lib/node_modules/npm/doc/cli/npm-install-ci-test.md\n",
      "/opt/anaconda3/pkgs/nodejs-11.6.0-hfc679d8_0/lib/node_modules/npm/doc/cli/npm-install-test.md\n",
      "/opt/anaconda3/pkgs/nodejs-11.6.0-hfc679d8_0/lib/node_modules/npm/doc/cli/npm-test.md\n",
      "/opt/anaconda3/pkgs/nodejs-6.13.1-0/lib/node_modules/npm/doc/cli/npm-install-test.md\n",
      "/opt/anaconda3/pkgs/nodejs-6.13.1-0/lib/node_modules/npm/doc/cli/npm-test.md\n",
      "/usr/local/Cellar/node/16.6.2/libexec/lib/node_modules/npm/docs/content/commands/npm-install-ci-test.md\n",
      "/usr/local/Cellar/node/16.6.2/libexec/lib/node_modules/npm/docs/content/commands/npm-install-test.md\n",
      "/usr/local/Cellar/node/16.6.2/libexec/lib/node_modules/npm/docs/content/commands/npm-test.md\n",
      "/usr/local/Cellar/node/16.9.0/libexec/lib/node_modules/npm/docs/content/commands/npm-install-ci-test.md\n",
      "/usr/local/Cellar/node/16.9.0/libexec/lib/node_modules/npm/docs/content/commands/npm-install-test.md\n",
      "/usr/local/Cellar/node/16.9.0/libexec/lib/node_modules/npm/docs/content/commands/npm-test.md\n",
      "/usr/local/lib/node_modules/npm/docs/content/cli-commands/npm-install-ci-test.md\n",
      "/usr/local/lib/node_modules/npm/docs/content/cli-commands/npm-install-test.md\n",
      "/usr/local/lib/node_modules/npm/docs/content/cli-commands/npm-test.md\n"
     ]
    }
   ],
   "source": [
    "!locate test.md"
   ]
  },
  {
   "cell_type": "code",
   "execution_count": 92,
   "metadata": {
    "ExecuteTime": {
     "end_time": "2021-09-15T08:06:21.273536Z",
     "start_time": "2021-09-15T08:06:21.145113Z"
    }
   },
   "outputs": [
    {
     "name": "stdout",
     "output_type": "stream",
     "text": [
      "test: shell built-in command\r\n",
      "/bin/test\r\n"
     ]
    }
   ],
   "source": [
    "!where test\n"
   ]
  },
  {
   "cell_type": "markdown",
   "metadata": {},
   "source": [
    "### echo\n",
    "- display the text as output"
   ]
  },
  {
   "cell_type": "code",
   "execution_count": 94,
   "metadata": {
    "ExecuteTime": {
     "end_time": "2021-09-15T08:07:17.084398Z",
     "start_time": "2021-09-15T08:07:16.958496Z"
    }
   },
   "outputs": [
    {
     "name": "stdout",
     "output_type": "stream",
     "text": [
      "welcome to shell\r\n"
     ]
    }
   ],
   "source": [
    "!echo \"welcome to shell\""
   ]
  },
  {
   "cell_type": "code",
   "execution_count": null,
   "metadata": {},
   "outputs": [],
   "source": []
  },
  {
   "cell_type": "markdown",
   "metadata": {
    "ExecuteTime": {
     "end_time": "2021-09-15T08:07:45.068905Z",
     "start_time": "2021-09-15T08:07:45.064631Z"
    }
   },
   "source": [
    "### df\n",
    "- display the disk space of the partition in your system"
   ]
  },
  {
   "cell_type": "code",
   "execution_count": 97,
   "metadata": {
    "ExecuteTime": {
     "end_time": "2021-09-15T08:07:51.766506Z",
     "start_time": "2021-09-15T08:07:51.636687Z"
    }
   },
   "outputs": [
    {
     "name": "stdout",
     "output_type": "stream",
     "text": [
      "Filesystem     512-blocks      Used  Available Capacity iused      ifree %iused  Mounted on\r\n",
      "/dev/disk1s1s1 1953595632  29948856 1398774752     3%  553781 9767424379    0%   /\r\n",
      "devfs                 397       397          0   100%     689          0  100%   /dev\r\n",
      "/dev/disk1s5   1953595632   6291496 1398774752     1%       3 9767978157    0%   /System/Volumes/VM\r\n",
      "/dev/disk1s3   1953595632    844248 1398774752     1%    2002 9767976158    0%   /System/Volumes/Preboot\r\n",
      "/dev/disk1s6   1953595632      4776 1398774752     1%      17 9767978143    0%   /System/Volumes/Update\r\n",
      "/dev/disk1s2   1953595632 516102384 1398774752    27% 1392688 9766585472    0%   /System/Volumes/Data\r\n",
      "map auto_home           0         0          0   100%       0          0  100%   /System/Volumes/Data/home\r\n",
      "/dev/disk1s1   1953595632  29948856 1398774752     3%  553783 9767424377    0%   /Volumes/Macintosh HD 1\r\n",
      "/dev/disk4s1        57424     33528      22632    60%      19     287101    0%   /Volumes/UNetbootin\r\n"
     ]
    }
   ],
   "source": [
    "!df"
   ]
  },
  {
   "cell_type": "code",
   "execution_count": 98,
   "metadata": {
    "ExecuteTime": {
     "end_time": "2021-09-15T08:08:32.350932Z",
     "start_time": "2021-09-15T08:08:32.225337Z"
    }
   },
   "outputs": [
    {
     "name": "stdout",
     "output_type": "stream",
     "text": [
      "Filesystem       Size   Used  Avail Capacity iused      ifree %iused  Mounted on\r\n",
      "/dev/disk1s1s1   1.0T    15G   716G     3%  553781 9767424379    0%   /\r\n",
      "/dev/disk1s5     1.0T   3.2G   716G     1%       3 9767978157    0%   /System/Volumes/VM\r\n",
      "/dev/disk1s3     1.0T   432M   716G     1%    2002 9767976158    0%   /System/Volumes/Preboot\r\n",
      "/dev/disk1s6     1.0T   2.4M   716G     1%      17 9767978143    0%   /System/Volumes/Update\r\n",
      "/dev/disk1s2     1.0T   264G   716G    27% 1392689 9766585471    0%   /System/Volumes/Data\r\n",
      "/dev/disk1s1     1.0T    15G   716G     3%  553783 9767424377    0%   /Volumes/Macintosh HD 1\r\n",
      "/dev/disk4s1      29M    17M    12M    60%      19     287101    0%   /Volumes/UNetbootin\r\n"
     ]
    }
   ],
   "source": [
    "!df -Hil"
   ]
  },
  {
   "cell_type": "code",
   "execution_count": null,
   "metadata": {},
   "outputs": [],
   "source": []
  },
  {
   "cell_type": "markdown",
   "metadata": {},
   "source": [
    "### du-\n",
    "- disk usage"
   ]
  },
  {
   "cell_type": "code",
   "execution_count": 101,
   "metadata": {
    "ExecuteTime": {
     "end_time": "2021-09-15T08:09:34.104940Z",
     "start_time": "2021-09-15T08:09:33.980833Z"
    }
   },
   "outputs": [
    {
     "name": "stdout",
     "output_type": "stream",
     "text": [
      " 32K\t./untitled folder\r\n",
      "4.0K\t./.ipynb_checkpoints\r\n",
      " 80K\t.\r\n"
     ]
    }
   ],
   "source": [
    "!du -h"
   ]
  },
  {
   "cell_type": "code",
   "execution_count": 104,
   "metadata": {
    "ExecuteTime": {
     "end_time": "2021-09-15T08:09:56.748531Z",
     "start_time": "2021-09-15T08:09:56.622582Z"
    }
   },
   "outputs": [
    {
     "name": "stdout",
     "output_type": "stream",
     "text": [
      "total 80\r\n",
      "-rw-r--r--  1 bhuwankarki  staff    35K Sep 15 11:09 Command.ipynb\r\n",
      "-rw-r--r--  1 bhuwankarki  staff    20B Sep 15 11:02 test.md\r\n",
      "drwxr-xr-x  6 bhuwankarki  staff   192B Sep 15 10:59 \u001b[1m\u001b[36muntitled folder\u001b[m\u001b[m\r\n"
     ]
    }
   ],
   "source": [
    "!ls -lh"
   ]
  },
  {
   "cell_type": "code",
   "execution_count": null,
   "metadata": {},
   "outputs": [],
   "source": []
  },
  {
   "cell_type": "markdown",
   "metadata": {},
   "source": [
    "# zip file Tar\n",
    "\n",
    "- use tar to compress a file or folder\n",
    "- used to decompress a file or foler"
   ]
  },
  {
   "cell_type": "code",
   "execution_count": 105,
   "metadata": {
    "ExecuteTime": {
     "end_time": "2021-09-15T08:10:59.750614Z",
     "start_time": "2021-09-15T08:10:59.625684Z"
    }
   },
   "outputs": [
    {
     "name": "stdout",
     "output_type": "stream",
     "text": [
      "Command.ipynb    test.md          \u001b[1m\u001b[36muntitled folder\u001b[m\u001b[m/\r\n"
     ]
    }
   ],
   "source": [
    "ls\n"
   ]
  },
  {
   "cell_type": "code",
   "execution_count": 106,
   "metadata": {
    "ExecuteTime": {
     "end_time": "2021-09-15T08:11:08.607336Z",
     "start_time": "2021-09-15T08:11:08.470816Z"
    }
   },
   "outputs": [
    {
     "name": "stdout",
     "output_type": "stream",
     "text": [
      "Usage:\r\n",
      "  List:    tar -tf <archive-filename>\r\n",
      "  Extract: tar -xf <archive-filename>\r\n",
      "  Create:  tar -cf <archive-filename> [filenames...]\r\n",
      "  Help:    tar --help\r\n"
     ]
    }
   ],
   "source": [
    "!tar test.md "
   ]
  },
  {
   "cell_type": "code",
   "execution_count": 107,
   "metadata": {
    "ExecuteTime": {
     "end_time": "2021-09-15T08:12:44.212209Z",
     "start_time": "2021-09-15T08:12:44.073959Z"
    }
   },
   "outputs": [
    {
     "name": "stdout",
     "output_type": "stream",
     "text": [
      "a test.md\r\n"
     ]
    }
   ],
   "source": [
    "! tar -cvf test.zip test.md"
   ]
  },
  {
   "cell_type": "code",
   "execution_count": 108,
   "metadata": {
    "ExecuteTime": {
     "end_time": "2021-09-15T08:12:47.469319Z",
     "start_time": "2021-09-15T08:12:47.346411Z"
    }
   },
   "outputs": [
    {
     "name": "stdout",
     "output_type": "stream",
     "text": [
      "Command.ipynb    test.md          test.zip         \u001b[1m\u001b[36muntitled folder\u001b[m\u001b[m/\r\n"
     ]
    }
   ],
   "source": [
    "ls"
   ]
  },
  {
   "cell_type": "code",
   "execution_count": 109,
   "metadata": {
    "ExecuteTime": {
     "end_time": "2021-09-15T08:13:50.286658Z",
     "start_time": "2021-09-15T08:13:50.156255Z"
    }
   },
   "outputs": [
    {
     "name": "stdout",
     "output_type": "stream",
     "text": [
      "-rw-r--r--  0 bhuwankarki staff      20 Sep 15 11:02 test.md\r\n"
     ]
    }
   ],
   "source": [
    "! tar -tvf test.zip\n"
   ]
  },
  {
   "cell_type": "code",
   "execution_count": null,
   "metadata": {},
   "outputs": [],
   "source": []
  },
  {
   "cell_type": "markdown",
   "metadata": {},
   "source": [
    "### Running multiple command at the same time\n",
    "\n",
    "- `&&` -> run the next command if the previous one success\n",
    "\n",
    "- `||` --> run command unitl one success"
   ]
  },
  {
   "cell_type": "code",
   "execution_count": 110,
   "metadata": {
    "ExecuteTime": {
     "end_time": "2021-09-15T08:16:42.011439Z",
     "start_time": "2021-09-15T08:16:41.881246Z"
    }
   },
   "outputs": [
    {
     "name": "stdout",
     "output_type": "stream",
     "text": [
      "Command.ipynb    test.md          test.zip         \u001b[1m\u001b[36muntitled folder\u001b[m\u001b[m/\r\n"
     ]
    }
   ],
   "source": [
    "ls"
   ]
  },
  {
   "cell_type": "code",
   "execution_count": 111,
   "metadata": {
    "ExecuteTime": {
     "end_time": "2021-09-15T08:17:12.200803Z",
     "start_time": "2021-09-15T08:17:12.073042Z"
    }
   },
   "outputs": [],
   "source": [
    "!cd untitled\\ folder && touch hello.txt"
   ]
  },
  {
   "cell_type": "code",
   "execution_count": 115,
   "metadata": {
    "ExecuteTime": {
     "end_time": "2021-09-15T08:17:45.348407Z",
     "start_time": "2021-09-15T08:17:45.342870Z"
    }
   },
   "outputs": [
    {
     "name": "stdout",
     "output_type": "stream",
     "text": [
      "/Users/bhuwankarki/Desktop/DS_ML_2021_09/shell/untitled folder\n"
     ]
    }
   ],
   "source": [
    "%cd untitled\\ folder\n",
    "\n"
   ]
  },
  {
   "cell_type": "code",
   "execution_count": 123,
   "metadata": {
    "ExecuteTime": {
     "end_time": "2021-09-15T08:19:41.113026Z",
     "start_time": "2021-09-15T08:19:40.984354Z"
    }
   },
   "outputs": [
    {
     "name": "stdout",
     "output_type": "stream",
     "text": [
      "\u001b[1m\u001b[36mPython_notebook\u001b[m\u001b[m/ \u001b[1m\u001b[36mshell\u001b[m\u001b[m/\r\n"
     ]
    }
   ],
   "source": [
    "ls"
   ]
  },
  {
   "cell_type": "code",
   "execution_count": 124,
   "metadata": {
    "ExecuteTime": {
     "end_time": "2021-09-15T08:19:58.810184Z",
     "start_time": "2021-09-15T08:19:58.805372Z"
    }
   },
   "outputs": [
    {
     "name": "stdout",
     "output_type": "stream",
     "text": [
      "/Users/bhuwankarki/Desktop/DS_ML_2021_09/shell\n"
     ]
    }
   ],
   "source": [
    "cd shell"
   ]
  },
  {
   "cell_type": "code",
   "execution_count": 158,
   "metadata": {
    "ExecuteTime": {
     "end_time": "2021-09-15T08:57:48.703435Z",
     "start_time": "2021-09-15T08:57:46.810553Z"
    }
   },
   "outputs": [
    {
     "name": "stdout",
     "output_type": "stream",
     "text": [
      "absl-py==0.11.0\r\n",
      "aiobotocore==1.3.0\r\n",
      "aiofiles==0.7.0\r\n",
      "aiohttp @ file:///Users/runner/miniforge3/conda-bld/aiohttp_1623682484649/work\r\n",
      "aioitertools==0.8.0\r\n",
      "aiostream==0.4.3\r\n",
      "alembic==1.6.2\r\n",
      "altair==4.1.0\r\n",
      "anaconda-client==1.7.2\r\n",
      "anaconda-navigator==2.0.3\r\n",
      "antlr4-python3-runtime==4.8\r\n",
      "anyio==3.3.0\r\n",
      "apache-airflow==2.1.3\r\n",
      "apache-airflow-providers-ftp==2.0.1\r\n",
      "apache-airflow-providers-http==2.0.1\r\n",
      "apache-airflow-providers-imap==2.0.1\r\n",
      "apache-airflow-providers-sqlite==2.0.1\r\n",
      "apache-beam==2.31.0\r\n",
      "apispec==3.3.2\r\n",
      "aplus==0.11.0\r\n",
      "appdirs @ file:///home/conda/feedstock_root/build_artifacts/appdirs_1603108395799/work\r\n",
      "appnope @ file:///opt/concourse/worker/volumes/live/5f13e5b3-5355-4541-5fc3-f08850c73cf9/volume/appnope_1606859448618/work\r\n",
      "APScheduler==3.6.3\r\n",
      "argcomplete==1.12.3\r\n",
      "argon2-cffi @ file:///opt/concourse/worker/volumes/live/d733ceb5-7f19-407b-7da7-a386540ab855/volume/argon2-cffi_1613037492998/work\r\n",
      "asgiref==3.4.1\r\n",
      "astor==0.8.1\r\n",
      "astropy @ file:///opt/concourse/worker/volumes/live/0a514e04-301a-48f9-530f-90365df6420e/volume/astropy_1617745469121/work\r\n",
      "astunparse==1.6.3\r\n",
      "async-generator @ file:///home/ktietz/src/ci/async_generator_1611927993394/work\r\n",
      "async-timeout==3.0.1\r\n",
      "atpublic==1.0\r\n",
      "attrs==20.3.0\r\n",
      "autopep8 @ file:///home/conda/feedstock_root/build_artifacts/autopep8_1619771482781/work\r\n",
      "avro-python3==1.9.2.1\r\n",
      "Babel @ file:///tmp/build/80754af9/babel_1620871417480/work\r\n",
      "backcall @ file:///home/ktietz/src/ci/backcall_1611930011877/work\r\n",
      "backports.functools-lru-cache @ file:///tmp/build/80754af9/backports.functools_lru_cache_1618170165463/work\r\n",
      "backports.tempfile @ file:///home/linux1/recipes/ci/backports.tempfile_1610991236607/work\r\n",
      "backports.weakref==1.0.post1\r\n",
      "base58==2.1.0\r\n",
      "beautifulsoup4 @ file:///home/linux1/recipes/ci/beautifulsoup4_1610988766420/work\r\n",
      "bleach @ file:///tmp/build/80754af9/bleach_1612211392645/work\r\n",
      "blinker==1.4\r\n",
      "blis @ file:///opt/concourse/worker/volumes/live/f9b87811-6932-46c2-6826-5aef90cfc1ba/volume/cython-blis_1594246874825/work\r\n",
      "bokeh @ file:///opt/concourse/worker/volumes/live/65ce9588-f765-4deb-5b52-1c552a693654/volume/bokeh_1620783891289/work\r\n",
      "boto3==1.17.49\r\n",
      "botocore==1.20.49\r\n",
      "bqplot @ file:///home/conda/feedstock_root/build_artifacts/bqplot_1623163909500/work\r\n",
      "branca @ file:///home/conda/feedstock_root/build_artifacts/branca_1609346930842/work\r\n",
      "brotlipy==0.7.0\r\n",
      "cached-property @ file:///tmp/build/80754af9/cached-property_1600785575025/work\r\n",
      "cachetools @ file:///tmp/build/80754af9/cachetools_1619597386817/work\r\n",
      "catalogue==1.0.0\r\n",
      "cattrs==1.5.0\r\n",
      "certifi==2021.5.30\r\n",
      "cffi==1.14.0\r\n",
      "chardet==3.0.4\r\n",
      "charset-normalizer @ file:///home/conda/feedstock_root/build_artifacts/charset-normalizer_1627689966083/work\r\n",
      "chart-studio==1.1.0\r\n",
      "click==7.1.2\r\n",
      "clickclick==20.10.2\r\n",
      "cloudpickle @ file:///tmp/build/80754af9/cloudpickle_1598884132938/work\r\n",
      "clyent==1.2.2\r\n",
      "colorama @ file:///home/conda/feedstock_root/build_artifacts/colorama_1602866480661/work\r\n",
      "colorlog==5.0.1\r\n",
      "colorlover==0.3.0\r\n",
      "commonmark==0.9.1\r\n",
      "conda==4.10.3\r\n",
      "conda-build==3.20.5\r\n",
      "conda-content-trust @ file:///tmp/build/80754af9/conda-content-trust_1617045594566/work\r\n",
      "conda-package-handling @ file:///opt/concourse/worker/volumes/live/73497069-9b43-4ad9-50ec-1abb340e14eb/volume/conda-package-handling_1618262140058/work\r\n",
      "conda-repo-cli @ file:///tmp/build/80754af9/conda-repo-cli_1620168426516/work\r\n",
      "conda-token @ file:///tmp/build/80754af9/conda-token_1620076980546/work\r\n",
      "conda-verify==3.4.2\r\n",
      "configobj==5.0.6\r\n",
      "COVID19Py==0.3.0\r\n",
      "crcmod==1.7\r\n",
      "croniter==1.0.15\r\n",
      "cryptography @ file:///opt/concourse/worker/volumes/live/c515855a-effc-46df-74dc-542901b701da/volume/cryptography_1616769282442/work\r\n",
      "cufflinks==0.17.3\r\n",
      "cycler==0.10.0\r\n",
      "cymem @ file:///opt/concourse/worker/volumes/live/b43080e3-a806-4a16-44c5-703b35abb541/volume/cymem_1613319252053/work\r\n",
      "cytoolz==0.11.0\r\n",
      "dask @ file:///tmp/build/80754af9/dask-core_1622531687800/work\r\n",
      "dask-labextension==5.0.2\r\n",
      "decorator @ file:///home/ktietz/src/ci/decorator_1611930055503/work\r\n",
      "defusedxml @ file:///tmp/build/80754af9/defusedxml_1615228127516/work\r\n",
      "Deprecated==1.2.13\r\n",
      "dictdiffer @ file:///home/conda/feedstock_root/build_artifacts/dictdiffer_1618050327922/work\r\n",
      "dill==0.3.1.1\r\n",
      "diskcache @ file:///home/conda/feedstock_root/build_artifacts/diskcache_1611381483884/work\r\n",
      "distributed @ file:///opt/concourse/worker/volumes/live/f9b0a56d-81fd-42e9-5d91-f85fcf41a787/volume/distributed_1622643711976/work\r\n",
      "distro @ file:///home/conda/feedstock_root/build_artifacts/distro_1591810140801/work\r\n",
      "Django==2.2.5\r\n",
      "dm-tree==0.1.5\r\n",
      "dnspython==2.1.0\r\n",
      "docker==4.4.4\r\n",
      "docopt==0.6.2\r\n",
      "docstring-parser==0.10\r\n",
      "docutils==0.16\r\n",
      "dominate==2.6.0\r\n",
      "dpath @ file:///Users/runner/miniforge3/conda-bld/dpath_1614942541955/work\r\n",
      "dulwich @ file:///Users/runner/miniforge3/conda-bld/dulwich_1621900382843/work\r\n",
      "dvc @ file:///Users/runner/miniforge3/conda-bld/dvc_1625807633224/work\r\n",
      "dvclive==0.1.0\r\n",
      "EasyProcess==0.3\r\n",
      "elasticsearch==7.12.1\r\n",
      "email-validator==1.1.2\r\n",
      "emoji==1.2.0\r\n",
      "en-core-web-sm @ https://github.com/explosion/spacy-models/releases/download/en_core_web_sm-2.3.1/en_core_web_sm-2.3.1.tar.gz\r\n",
      "entrypoints==0.3\r\n",
      "fastapi==0.65.1\r\n",
      "fastavro==1.4.1\r\n",
      "fasteners==0.16.3\r\n",
      "filelock @ file:///home/linux1/recipes/ci/filelock_1610993975404/work\r\n",
      "fire==0.4.0\r\n",
      "Flask @ file:///home/ktietz/src/ci/flask_1611932660458/work\r\n",
      "Flask-AppBuilder==3.3.2\r\n",
      "Flask-Babel==1.0.0\r\n",
      "Flask-Bootstrap==3.3.7.1\r\n",
      "Flask-Caching==1.10.1\r\n",
      "Flask-JWT-Extended==3.25.1\r\n",
      "Flask-Login==0.4.1\r\n",
      "Flask-Mail==0.9.1\r\n",
      "Flask-Migrate==3.0.0\r\n",
      "Flask-Moment==0.11.0\r\n",
      "Flask-OpenID==1.2.5\r\n",
      "Flask-Script==2.0.6\r\n",
      "Flask-SQLAlchemy==2.5.1\r\n",
      "Flask-WTF==0.14.3\r\n",
      "flatbuffers==1.12\r\n",
      "flatten-dict @ file:///home/conda/feedstock_root/build_artifacts/flatten-dict_1597439079477/work\r\n",
      "flufl.lock==3.2\r\n",
      "folium==0.12.1\r\n",
      "frozendict==1.2\r\n",
      "fsspec==2021.6.1\r\n",
      "ftfy @ file:///home/conda/feedstock_root/build_artifacts/ftfy_1621924325797/work\r\n",
      "funcy @ file:///home/conda/feedstock_root/build_artifacts/funcy_1620644331537/work\r\n",
      "future==0.18.2\r\n",
      "gast==0.4.0\r\n",
      "gcsfs @ file:///home/conda/feedstock_root/build_artifacts/gcsfs_1626195555179/work\r\n",
      "gin-config==0.4.0\r\n",
      "gitdb @ file:///home/conda/feedstock_root/build_artifacts/gitdb_1616781027402/work\r\n",
      "GitPython @ file:///home/conda/feedstock_root/build_artifacts/gitpython_1620970877194/work\r\n",
      "glob2 @ file:///home/linux1/recipes/ci/glob2_1610991677669/work\r\n",
      "google-api-core @ file:///home/conda/feedstock_root/build_artifacts/google-api-core-split_1619637964834/work\r\n",
      "google-api-python-client==1.12.8\r\n",
      "google-apitools==0.5.31\r\n",
      "google-auth==1.28.0\r\n",
      "google-auth-httplib2 @ file:///home/conda/feedstock_root/build_artifacts/google-auth-httplib2_1617387471894/work\r\n",
      "google-auth-oauthlib @ file:///home/conda/feedstock_root/build_artifacts/google-auth-oauthlib_1627588028651/work\r\n",
      "google-cloud-aiplatform==0.7.1\r\n",
      "google-cloud-bigquery==2.18.0\r\n",
      "google-cloud-bigtable==1.7.0\r\n",
      "google-cloud-core==1.6.0\r\n",
      "google-cloud-datastore==1.15.3\r\n",
      "google-cloud-dlp==1.0.0\r\n",
      "google-cloud-language==1.3.0\r\n",
      "google-cloud-profiler==3.0.5\r\n",
      "google-cloud-pubsub==1.7.0\r\n",
      "google-cloud-spanner==1.19.1\r\n",
      "google-cloud-storage==1.38.0\r\n",
      "google-cloud-videointelligence==1.16.1\r\n",
      "google-cloud-vision==1.0.0\r\n",
      "google-crc32c==1.1.2\r\n",
      "google-pasta==0.2.0\r\n",
      "google-resumable-media==1.3.0\r\n",
      "googleapis-common-protos @ file:///Users/runner/miniforge3/conda-bld/googleapis-common-protos-feedstock_1616710809330/work\r\n",
      "googletrans==3.0.0\r\n",
      "grandalf==0.6\r\n",
      "graphviz @ file:///home/conda/feedstock_root/build_artifacts/python-graphviz_1609966316231/work\r\n",
      "greenlet @ file:///opt/concourse/worker/volumes/live/3ef4f3fa-d3c5-4d18-614a-db20c54a531f/volume/greenlet_1620913631134/work\r\n",
      "grpc-google-iam-v1==0.12.3\r\n",
      "grpcio==1.34.1\r\n",
      "grpcio-gcp==0.2.2\r\n",
      "gunicorn==20.1.0\r\n",
      "gym==0.18.0\r\n",
      "h11 @ file:///home/conda/feedstock_root/build_artifacts/h11_1609518832927/work\r\n",
      "h2 @ file:///Users/runner/miniforge3/conda-bld/h2_1610644033925/work\r\n",
      "h5py==3.1.0\r\n",
      "hdfs==2.6.0\r\n",
      "HeapDict==1.0.1\r\n",
      "hpack==4.0.0\r\n",
      "hstspreload==2020.12.22\r\n",
      "htmlmin==0.1.12\r\n",
      "httpcore @ file:///home/conda/feedstock_root/build_artifacts/httpcore_1623245522847/work\r\n",
      "httplib2 @ file:///home/conda/feedstock_root/build_artifacts/httplib2_1617134439639/work\r\n",
      "httptools==0.2.0\r\n",
      "httpx @ file:///Users/runner/miniforge3/conda-bld/httpx_1629391555151/work\r\n",
      "hydra-colorlog==1.1.0\r\n",
      "hydra-core==1.1.0\r\n",
      "hyperframe @ file:///home/conda/feedstock_root/build_artifacts/hyperframe_1619110129307/work\r\n",
      "idna @ file:///home/linux1/recipes/ci/idna_1610986105248/work\r\n",
      "ImageHash==4.2.0\r\n",
      "imageio @ file:///tmp/build/80754af9/imageio_1617700267927/work\r\n",
      "imbalanced-learn @ file:///home/conda/feedstock_root/build_artifacts/imbalanced-learn_1613662486985/work\r\n",
      "importlib-metadata @ file:///opt/concourse/worker/volumes/live/a634a87c-b5e5-41bd-628d-cd0413666c93/volume/importlib-metadata_1617877368300/work\r\n",
      "importlib-resources==1.5.0\r\n",
      "inflection==0.5.1\r\n",
      "iniconfig @ file:///home/linux1/recipes/ci/iniconfig_1610983019677/work\r\n",
      "ipydatawidgets @ file:///home/conda/feedstock_root/build_artifacts/ipydatawidgets_1609929402090/work\r\n",
      "ipykernel @ file:///opt/concourse/worker/volumes/live/88f541d3-5a27-498f-7391-f2e50ca36560/volume/ipykernel_1596206680118/work/dist/ipykernel-5.3.4-py3-none-any.whl\r\n",
      "ipyleaflet @ file:///home/conda/feedstock_root/build_artifacts/ipyleaflet_1610840544566/work\r\n",
      "ipympl @ file:///tmp/build/80754af9/ipympl_1616528805894/work\r\n",
      "ipython @ file:///opt/concourse/worker/volumes/live/c432d8a7-d8f3-4e24-590f-f03d7e5f35e1/volume/ipython_1617120884257/work\r\n",
      "ipython-genutils @ file:///tmp/build/80754af9/ipython_genutils_1606773439826/work\r\n",
      "ipython-sql==0.4.0\r\n",
      "ipyvolume @ file:///home/conda/feedstock_root/build_artifacts/ipyvolume_1618924410810/work\r\n",
      "ipyvue @ file:///home/conda/feedstock_root/build_artifacts/ipyvue_1610540098971/work\r\n",
      "ipyvuetify @ file:///home/conda/feedstock_root/build_artifacts/ipyvuetify_1614021279892/work\r\n",
      "ipywebrtc @ file:///home/conda/feedstock_root/build_artifacts/ipywebrtc_1617018267587/work\r\n",
      "ipywidgets @ file:///tmp/build/80754af9/ipywidgets_1610481889018/work\r\n",
      "iso8601==0.1.16\r\n",
      "isodate==0.6.0\r\n",
      "itsdangerous==1.1.0\r\n",
      "jedi==0.18.0\r\n",
      "jina==2.0.23\r\n",
      "Jinja2==2.11.3\r\n",
      "jmespath==0.10.0\r\n",
      "joblib==0.14.1\r\n",
      "json5==0.9.5\r\n",
      "jsonpath-ng @ file:///home/conda/feedstock_root/build_artifacts/jsonpath-ng_1599497963832/work\r\n",
      "jsonschema @ file:///tmp/build/80754af9/jsonschema_1602607155483/work\r\n",
      "jupyter==1.0.0\r\n",
      "jupyter-client @ file:///tmp/build/80754af9/jupyter_client_1616770841739/work\r\n",
      "jupyter-console==6.4.0\r\n",
      "jupyter-contrib-core==0.3.3\r\n",
      "jupyter-contrib-nbextensions @ file:///home/conda/feedstock_root/build_artifacts/jupyter_contrib_nbextensions_1614931162960/work\r\n",
      "jupyter-core @ file:///opt/concourse/worker/volumes/live/c8df8dce-dbb3-46e7-649c-adf4ed2dd00a/volume/jupyter_core_1612213293829/work\r\n",
      "jupyter-dashboards==0.7.0\r\n",
      "jupyter-highlight-selected-word @ file:///Users/runner/miniforge3/conda-bld/jupyter_highlight_selected_word_1611341029944/work\r\n",
      "jupyter-latex-envs @ file:///home/conda/feedstock_root/build_artifacts/jupyter_latex_envs_1614852190293/work\r\n",
      "jupyter-nbextensions-configurator @ file:///Users/runner/miniforge3/conda-bld/jupyter_nbextensions_configurator_1611341144578/work\r\n",
      "jupyter-packaging @ file:///tmp/build/80754af9/jupyter-packaging_1613502826984/work\r\n",
      "jupyter-server @ file:///opt/concourse/worker/volumes/live/4f2e970c-4cba-4227-75ae-10ebe3b5f9c3/volume/jupyter_server_1616084051538/work\r\n",
      "jupyter-server-proxy==3.0.2\r\n",
      "jupyterlab @ file:///tmp/build/80754af9/jupyterlab_1619133235951/work\r\n",
      "jupyterlab-pygments @ file:///tmp/build/80754af9/jupyterlab_pygments_1601490720602/work\r\n",
      "jupyterlab-server @ file:///tmp/build/80754af9/jupyterlab_server_1617134334258/work\r\n",
      "jupyterlab-widgets @ file:///tmp/build/80754af9/jupyterlab_widgets_1609884341231/work\r\n",
      "kaggle==1.5.12\r\n",
      "Keras==2.2.4\r\n",
      "Keras-Applications==1.0.8\r\n",
      "keras-nightly==2.5.0.dev2021032900\r\n",
      "Keras-Preprocessing==1.1.2\r\n",
      "keras-tuner==1.0.1\r\n",
      "kfp @ https://storage.googleapis.com/ml-pipeline/release/latest/kfp.tar.gz\r\n",
      "kfp-pipeline-spec==0.1.10\r\n",
      "kfp-server-api==1.7.0\r\n",
      "kiwisolver @ file:///opt/concourse/worker/volumes/live/0b2f3e77-eaa3-4995-7dd0-c994762fcbde/volume/kiwisolver_1612282417472/work\r\n",
      "kt-legacy==1.0.4\r\n",
      "kubernetes==11.0.0\r\n",
      "lazy-object-proxy==1.6.0\r\n",
      "libarchive-c @ file:///tmp/build/80754af9/python-libarchive-c_1617780486945/work\r\n",
      "lime==0.2.0.1\r\n",
      "llvmlite==0.36.0\r\n",
      "locket==0.2.1\r\n",
      "lockfile==0.12.2\r\n",
      "lxml @ file:///opt/concourse/worker/volumes/live/42fc56a4-88b4-4605-6037-9605f4e5eeeb/volume/lxml_1616443240194/work\r\n",
      "lz4==3.1.1\r\n",
      "mailchecker @ file:///home/conda/feedstock_root/build_artifacts/mailchecker_1622913132606/work\r\n",
      "Mako==1.1.4\r\n",
      "mamba @ file:///Users/runner/miniforge3/conda-bld/mamba_1620856644546/work\r\n",
      "Markdown==3.3.4\r\n",
      "MarkupSafe==1.1.1\r\n",
      "marshmallow==3.13.0\r\n",
      "marshmallow-enum==1.5.1\r\n",
      "marshmallow-oneofschema==3.0.1\r\n",
      "marshmallow-sqlalchemy==0.23.1\r\n",
      "matplotlib @ file:///opt/concourse/worker/volumes/live/41e8cd50-031f-4dda-5787-dd3c4f4e0f08/volume/matplotlib-suite_1613407855571/work\r\n",
      "missingno==0.4.2\r\n",
      "mistune @ file:///opt/concourse/worker/volumes/live/95802d64-d39c-491b-74ce-b9326880ca54/volume/mistune_1594373201816/work\r\n",
      "mkl-fft==1.3.0\r\n",
      "mkl-random @ file:///opt/concourse/worker/volumes/live/54b31a45-1da5-4512-5c3a-93c9ff2af8bc/volume/mkl_random_1618853970587/work\r\n",
      "mkl-service==2.3.0\r\n",
      "ml-metadata==1.2.0\r\n",
      "ml-pipelines-sdk==1.2.0\r\n",
      "modin==0.9.1\r\n",
      "more-itertools @ file:///tmp/build/80754af9/more-itertools_1622818384463/work\r\n",
      "msgpack @ file:///opt/concourse/worker/volumes/live/d7400f3a-e5de-4e85-5d4c-0c984c648401/volume/msgpack-python_1612287157185/work\r\n",
      "multidict @ file:///Users/runner/miniforge3/conda-bld/multidict_1624981215272/work\r\n",
      "multimethod==1.4\r\n",
      "murmurhash @ file:///opt/concourse/worker/volumes/live/58b0adfe-9783-4a9c-5db6-f33c6e8875cd/volume/murmurhash_1607456130436/work\r\n",
      "mypy==0.812\r\n",
      "mypy-extensions==0.4.3\r\n",
      "nanotime==0.5.2\r\n",
      "navigator-updater==0.2.1\r\n",
      "nbclassic @ file:///tmp/build/80754af9/nbclassic_1616085367084/work\r\n",
      "nbclient @ file:///tmp/build/80754af9/nbclient_1614364831625/work\r\n",
      "nbconvert @ file:///opt/concourse/worker/volumes/live/2b9c1d93-d0fd-432f-7d93-66c93d81b614/volume/nbconvert_1601914875037/work\r\n",
      "nbformat @ file:///tmp/build/80754af9/nbformat_1617383369282/work\r\n",
      "nest-asyncio @ file:///tmp/build/80754af9/nest-asyncio_1613680548246/work\r\n",
      "networkx @ file:///tmp/build/80754af9/networkx_1617653298338/work\r\n",
      "nlpaug==1.1.3\r\n",
      "notebook @ file:///opt/concourse/worker/volumes/live/78fd3e35-67c2-490e-7bb9-0627a6db9485/volume/notebook_1621528340294/work\r\n",
      "numba @ file:///opt/concourse/worker/volumes/live/263a950e-7ddc-4297-63df-0c284f0b6d22/volume/numba_1616774255536/work\r\n",
      "numpy==1.19.5\r\n",
      "oauth2client==4.1.3\r\n",
      "oauthlib @ file:///home/conda/feedstock_root/build_artifacts/oauthlib_1622563202229/work\r\n",
      "olefile==0.46\r\n",
      "omegaconf==2.1.0\r\n",
      "openapi-schema-validator==0.1.5\r\n",
      "openapi-spec-validator==0.3.1\r\n",
      "opencv-contrib-python==4.5.2.52\r\n",
      "opt-einsum==3.3.0\r\n",
      "packaging @ file:///tmp/build/80754af9/packaging_1611952188834/work\r\n",
      "pandas==1.2.3\r\n",
      "pandas-profiling==3.0.0\r\n",
      "pandocfilters @ file:///opt/concourse/worker/volumes/live/c330e404-216d-466b-5327-8ce8fe854d3a/volume/pandocfilters_1605120442288/work\r\n",
      "parso @ file:///tmp/build/80754af9/parso_1617223946239/work\r\n",
      "partd @ file:///tmp/build/80754af9/partd_1618000087440/work\r\n",
      "pathlib2 @ file:///Users/runner/miniforge3/conda-bld/pathlib2_1610136824593/work\r\n",
      "pathspec @ file:///home/conda/feedstock_root/build_artifacts/pathspec_1605120834673/work\r\n",
      "patsy==0.5.1\r\n",
      "pendulum==2.1.2\r\n",
      "pexpect @ file:///tmp/build/80754af9/pexpect_1605563209008/work\r\n",
      "phik==0.11.2\r\n",
      "phonenumbers @ file:///home/conda/feedstock_root/build_artifacts/phonenumbers_1622433115763/work\r\n",
      "pickleshare @ file:///tmp/build/80754af9/pickleshare_1606932040724/work\r\n",
      "Pillow @ file:///opt/concourse/worker/volumes/live/ca23594b-6e35-4c8c-5637-50ac0b550473/volume/pillow_1617386168018/work\r\n",
      "pipreqs==0.4.10\r\n",
      "pkginfo==1.7.0\r\n",
      "plac @ file:///opt/concourse/worker/volumes/live/b396e4ca-d114-4800-41a2-71d753ee926d/volume/plac_1594261971168/work\r\n",
      "plaidbench==0.7.0\r\n",
      "plaidml==0.7.0\r\n",
      "plaidml-keras==0.7.0\r\n",
      "plotly==4.14.3\r\n",
      "pluggy @ file:///opt/concourse/worker/volumes/live/2d655872-b6f5-4225-538c-dd87e481f5c8/volume/pluggy_1615976700299/work\r\n",
      "ply==3.11\r\n",
      "portpicker==1.4.0\r\n",
      "preshed @ file:///opt/concourse/worker/volumes/live/8052fedc-fd1a-4c24-4799-74a6571d5b10/volume/preshed_1621860835374/work\r\n",
      "prettytable==0.7.2\r\n",
      "prison==0.2.1\r\n",
      "progressbar2==3.37.1\r\n",
      "prometheus-client @ file:///tmp/build/80754af9/prometheus_client_1623189609245/work\r\n",
      "promise==2.3\r\n",
      "prompt-toolkit @ file:///tmp/build/80754af9/prompt-toolkit_1616415428029/work\r\n",
      "proto-plus==1.18.1\r\n",
      "protobuf==3.16.0\r\n",
      "psutil @ file:///opt/concourse/worker/volumes/live/0673cd4b-30c1-4470-7490-d8955610f5d5/volume/psutil_1612298002202/work\r\n",
      "psycopg2==2.9.1\r\n",
      "ptyprocess @ file:///tmp/build/80754af9/ptyprocess_1609355006118/work/dist/ptyprocess-0.7.0-py2.py3-none-any.whl\r\n",
      "py @ file:///tmp/build/80754af9/py_1607971587848/work\r\n",
      "py-translate==1.0.3\r\n",
      "pyarrow==2.0.0\r\n",
      "pyasn1==0.4.8\r\n",
      "pyasn1-modules==0.2.8\r\n",
      "pycodestyle @ file:///tmp/build/80754af9/pycodestyle_1615748559966/work\r\n",
      "pycosat==0.6.3\r\n",
      "pycparser @ file:///tmp/build/80754af9/pycparser_1594388511720/work\r\n",
      "pydantic==1.8.2\r\n",
      "pydeck @ file:///home/conda/feedstock_root/build_artifacts/pydeck_1618346240213/work\r\n",
      "pydot @ file:///Users/runner/miniforge3/conda-bld/pydot_1613571334672/work\r\n",
      "pydotplus==2.0.2\r\n",
      "PyDrive2 @ file:///home/conda/feedstock_root/build_artifacts/pydrive2_1621832160818/work\r\n",
      "pyerfa @ file:///opt/concourse/worker/volumes/live/f87989f6-b347-4e0a-7be4-c3773473f3c6/volume/pyerfa_1621560794706/work\r\n",
      "pygit2 @ file:///Users/runner/miniforge3/conda-bld/pygit2_1622557860845/work\r\n",
      "pyglet==1.5.11\r\n",
      "Pygments @ file:///tmp/build/80754af9/pygments_1621606182707/work\r\n",
      "pygtrie==2.3.2\r\n",
      "PyJWT==1.7.1\r\n",
      "pymongo==3.11.4\r\n",
      "pyopencl==2021.1.5\r\n",
      "PyOpenGL==3.1.5\r\n",
      "PyOpenGL-accelerate==3.1.5\r\n",
      "pyOpenSSL @ file:///tmp/build/80754af9/pyopenssl_1608057966937/work\r\n",
      "pyparsing @ file:///home/linux1/recipes/ci/pyparsing_1610983426697/work\r\n",
      "pyrsistent @ file:///opt/concourse/worker/volumes/live/ff11f3f0-615b-4508-471d-4d9f19fa6657/volume/pyrsistent_1600141727281/work\r\n",
      "PySocks @ file:///opt/concourse/worker/volumes/live/85a5b906-0e08-41d9-6f59-084cee4e9492/volume/pysocks_1594394636991/work\r\n",
      "pytest==6.2.3\r\n",
      "pytest-runner @ file:///tmp/build/80754af9/pytest-runner_1613936096563/work\r\n",
      "python-benedict @ file:///home/conda/feedstock_root/build_artifacts/python-benedict_1620361080918/work\r\n",
      "python-daemon==2.3.0\r\n",
      "python-dateutil @ file:///home/ktietz/src/ci/python-dateutil_1611928101742/work\r\n",
      "python-dotenv==0.17.1\r\n",
      "python-editor==1.0.4\r\n",
      "python-fsutil @ file:///home/conda/feedstock_root/build_artifacts/python-fsutil_1620333537959/work\r\n",
      "python-multipart==0.0.5\r\n",
      "python-nvd3==0.15.0\r\n",
      "python-slugify==4.0.1\r\n",
      "python-telegram-bot==13.5\r\n",
      "python-utils==2.5.6\r\n",
      "python3-openid==3.2.0\r\n",
      "pythreejs @ file:///home/conda/feedstock_root/build_artifacts/pythreejs_1614691447028/work\r\n",
      "pytools==2021.2.2\r\n",
      "pytz @ file:///tmp/build/80754af9/pytz_1612215392582/work\r\n",
      "pytzdata==2020.1\r\n",
      "PyVirtualDisplay==2.1\r\n",
      "PyWavelets @ file:///opt/concourse/worker/volumes/live/ea36e10f-66e8-43ae-511e-c4092764493f/volume/pywavelets_1601658378672/work\r\n",
      "PyYAML==5.4.1\r\n",
      "pyzmq==20.0.0\r\n",
      "qtconsole==5.1.1\r\n",
      "QtPy==1.9.0\r\n",
      "redis==3.5.3\r\n",
      "requests==2.26.0\r\n",
      "requests-oauthlib @ file:///home/conda/feedstock_root/build_artifacts/requests-oauthlib_1595492159598/work\r\n",
      "requests-toolbelt==0.9.1\r\n",
      "retrying==1.3.3\r\n",
      "rfc3986 @ file:///home/conda/feedstock_root/build_artifacts/rfc3986_1620442452971/work\r\n",
      "rich @ file:///Users/runner/miniforge3/conda-bld/rich_1623268398653/work\r\n",
      "rise @ file:///Users/runner/miniforge3/conda-bld/rise_1603968216051/work\r\n",
      "rq==1.8.1\r\n",
      "rsa @ file:///home/conda/feedstock_root/build_artifacts/rsa_1614171254180/work\r\n",
      "ruamel-yaml-conda @ file:///opt/concourse/worker/volumes/live/53b096c9-f5b7-4029-7f1b-056927554e08/volume/ruamel_yaml_1616016691174/work\r\n",
      "ruamel.yaml @ file:///Users/runner/miniforge3/conda-bld/ruamel.yaml_1623316336851/work\r\n",
      "ruamel.yaml.clib @ file:///Users/runner/miniforge3/conda-bld/ruamel.yaml.clib_1610147042783/work\r\n",
      "s3fs==2021.6.1\r\n",
      "s3transfer==0.3.7\r\n",
      "sacremoses==0.0.45\r\n",
      "scikit-image==0.18.1\r\n",
      "scikit-learn @ file:///opt/concourse/worker/volumes/live/27ad05e5-2546-4218-4550-464724750acc/volume/scikit-learn_1621370399611/work\r\n",
      "scipy @ file:///opt/concourse/worker/volumes/live/7d10d993-3825-404e-6e5d-9947c19e8c6d/volume/scipy_1618855951189/work\r\n",
      "seaborn @ file:///tmp/build/80754af9/seaborn_1608578541026/work\r\n",
      "selenium==3.141.0\r\n",
      "Send2Trash @ file:///tmp/build/80754af9/send2trash_1607525499227/work\r\n",
      "setproctitle==1.2.2\r\n",
      "shap==0.39.0\r\n",
      "Shapely @ file:///opt/concourse/worker/volumes/live/b6b1656d-4a2d-49a9-5ffa-0a8179e23e85/volume/shapely_1599817147652/work\r\n",
      "shortuuid @ file:///Users/runner/miniforge3/conda-bld/shortuuid_1610439287599/work\r\n",
      "shtab @ file:///home/conda/feedstock_root/build_artifacts/shtab_1620060297176/work\r\n",
      "simpervisor==0.4\r\n",
      "simplejson @ file:///Users/runner/miniforge3/conda-bld/simplejson_1610147312492/work\r\n",
      "six @ file:///opt/concourse/worker/volumes/live/5b31cb27-1e37-4ca5-6e9f-86246eb206d2/volume/six_1605205320872/work\r\n",
      "slicer==0.0.7\r\n",
      "smmap @ file:///home/conda/feedstock_root/build_artifacts/smmap_1611376390914/work\r\n",
      "sniffio @ file:///opt/concourse/worker/volumes/live/1faeb672-6d3f-4f1f-7861-294fcf282962/volume/sniffio_1614030462215/work\r\n",
      "sortedcontainers==2.4.0\r\n",
      "soupsieve @ file:///tmp/build/80754af9/soupsieve_1616183228191/work\r\n",
      "spacy @ file:///Users/runner/miniforge3/conda-bld/spacy_1594659216021/work\r\n",
      "SQLAlchemy==1.3.24\r\n",
      "SQLAlchemy-JSONField==1.0.0\r\n",
      "SQLAlchemy-Utils==0.37.8\r\n",
      "sqlparse @ file:///tmp/build/80754af9/sqlparse_1602184451250/work\r\n",
      "srsly @ file:///opt/concourse/worker/volumes/live/d1fdb53b-e762-4ffd-607d-97b96ea72726/volume/srsly_1607548542376/work\r\n",
      "stanfordnlp==0.2.0\r\n",
      "stanza==1.2\r\n",
      "starlette==0.14.2\r\n",
      "statsmodels @ file:///Users/runner/miniforge3/conda-bld/statsmodels_1612273649462/work\r\n",
      "streamlit==0.86.0\r\n",
      "streamlit-metrics==0.1.0\r\n",
      "strip-hints==0.1.10\r\n",
      "swagger-ui-bundle==0.0.8\r\n",
      "tabulate==0.8.9\r\n",
      "tangled-up-in-unicode==0.1.0\r\n",
      "tblib @ file:///tmp/build/80754af9/tblib_1597928476713/work\r\n",
      "tenacity==6.2.0\r\n",
      "tensorboard==2.5.0\r\n",
      "tensorboard-data-server==0.6.1\r\n",
      "tensorboard-plugin-fairness-indicators==0.33.0\r\n",
      "tensorboard-plugin-wit==1.8.0\r\n",
      "tensorflow==2.5.1\r\n",
      "tensorflow-addons==0.13.0\r\n",
      "tensorflow-data-validation==1.2.0\r\n",
      "tensorflow-datasets==4.3.0\r\n",
      "tensorflow-estimator==2.5.0\r\n",
      "tensorflow-hub==0.9.0\r\n",
      "tensorflow-io==0.18.0\r\n",
      "tensorflow-io-gcs-filesystem==0.18.0\r\n",
      "tensorflow-metadata==1.2.0\r\n",
      "tensorflow-model-analysis==0.33.0\r\n",
      "tensorflow-probability==0.12.1\r\n",
      "tensorflow-serving-api==2.5.2\r\n",
      "tensorflow-transform==1.2.0\r\n",
      "termcolor==1.1.0\r\n",
      "terminado==0.9.4\r\n",
      "terminaltables==3.1.0\r\n",
      "testpath @ file:///home/ktietz/src/ci/testpath_1611930608132/work\r\n",
      "text-unidecode==1.3\r\n",
      "tf-agents==0.7.1\r\n",
      "tfx==1.2.0\r\n",
      "tfx-bsl==1.2.0\r\n",
      "thinc @ file:///opt/concourse/worker/volumes/live/d0d401d5-f84a-4764-440e-d67893479983/volume/thinc_1594251950205/work\r\n",
      "threadpoolctl @ file:///tmp/tmp9twdgx9k/threadpoolctl-2.1.0-py3-none-any.whl\r\n",
      "tifffile==2020.10.1\r\n",
      "tokenizers==0.10.2\r\n",
      "toml @ file:///tmp/build/80754af9/toml_1616166611790/work\r\n",
      "toolz @ file:///home/linux1/recipes/ci/toolz_1610987900194/work\r\n",
      "torch==1.7.1\r\n",
      "torch-tb-profiler==0.1.0\r\n",
      "torchaudio==0.7.0a0+a853dff\r\n",
      "torchvision==0.8.2\r\n",
      "tornado @ file:///opt/concourse/worker/volumes/live/05341796-4198-4ded-4a9a-332fde3cdfd1/volume/tornado_1606942323372/work\r\n",
      "tqdm @ file:///tmp/build/80754af9/tqdm_1615925068909/work\r\n",
      "traitlets @ file:///home/ktietz/src/ci/traitlets_1611929699868/work\r\n",
      "traittypes @ file:///home/conda/feedstock_root/build_artifacts/traittypes_1600843364635/work\r\n",
      "transformers==4.5.1\r\n",
      "twython==3.8.2\r\n",
      "typed-ast==1.4.3\r\n",
      "typeguard==2.12.1\r\n",
      "typing-extensions==3.7.4.3\r\n",
      "tzlocal==2.1\r\n",
      "unicodecsv==0.14.1\r\n",
      "Unidecode @ file:///home/conda/feedstock_root/build_artifacts/unidecode_1612533191922/work\r\n",
      "uritemplate==3.0.1\r\n",
      "urllib3 @ file:///tmp/build/80754af9/urllib3_1615837158687/work\r\n",
      "uvicorn==0.15.0\r\n",
      "uvloop==0.16.0\r\n",
      "vaex-astro @ file:///home/conda/feedstock_root/build_artifacts/vaex-astro_1622893869506/work\r\n",
      "vaex-core @ file:///Users/runner/miniforge3/conda-bld/vaex-core_1622893867500/work\r\n",
      "vaex-hdf5 @ file:///home/conda/feedstock_root/build_artifacts/vaex-hdf5_1615294694199/work\r\n",
      "vaex-jupyter @ file:///home/conda/feedstock_root/build_artifacts/vaex-jupyter_1615295488697/work\r\n",
      "vaex-ml @ file:///home/conda/feedstock_root/build_artifacts/vaex-ml_1616154365200/work\r\n",
      "vaex-server @ file:///home/conda/feedstock_root/build_artifacts/vaex-server_1622893847223/work\r\n",
      "vaex-viz @ file:///home/conda/feedstock_root/build_artifacts/vaex-viz_1615294777834/work\r\n",
      "validators==0.18.2\r\n",
      "visions==0.7.1\r\n",
      "visitor==0.1.3\r\n",
      "voluptuous @ file:///home/conda/feedstock_root/build_artifacts/voluptuous_1609311651693/work\r\n",
      "wasabi @ file:///tmp/build/80754af9/wasabi_1612219178408/work\r\n",
      "watchdog==2.1.3\r\n",
      "watchgod==0.7\r\n",
      "wcwidth @ file:///tmp/build/80754af9/wcwidth_1593447189090/work\r\n",
      "webencodings==0.5.1\r\n",
      "websocket-client==1.1.0\r\n",
      "websockets==9.1\r\n",
      "Werkzeug @ file:///home/ktietz/src/ci/werkzeug_1611932622770/work\r\n",
      "wget==3.2\r\n",
      "widgetsnbextension==3.5.1\r\n",
      "witwidget==1.8.0\r\n",
      "wquantiles==0.6\r\n",
      "wrapt @ file:///opt/concourse/worker/volumes/live/e3646d84-e961-4523-6bed-01532273c57e/volume/wrapt_1597851473852/work\r\n",
      "WTForms==2.3.3\r\n",
      "xarray @ file:///tmp/build/80754af9/xarray_1620826949436/work\r\n",
      "xgboost==1.4.2\r\n",
      "xmltodict==0.12.0\r\n",
      "yarg==0.1.9\r\n",
      "yarl @ file:///Users/runner/miniforge3/conda-bld/yarl_1625233054231/work\r\n",
      "zc.lockfile==2.0\r\n",
      "zict==2.0.0\r\n",
      "zipp @ file:///tmp/build/80754af9/zipp_1615904174917/work\r\n"
     ]
    }
   ],
   "source": [
    "! pip freeze all || grep \"numpy\""
   ]
  },
  {
   "cell_type": "markdown",
   "metadata": {},
   "source": [
    "### file mode\n",
    "- chmod\n",
    "    - to change the permission of the file or folder\n",
    "    - https://www.computerhope.com/unix/uchmod.htm"
   ]
  },
  {
   "cell_type": "code",
   "execution_count": 136,
   "metadata": {
    "ExecuteTime": {
     "end_time": "2021-09-15T08:40:18.692757Z",
     "start_time": "2021-09-15T08:40:18.567490Z"
    }
   },
   "outputs": [
    {
     "name": "stdout",
     "output_type": "stream",
     "text": [
      "-rw-r--r--  1 bhuwankarki  staff    20B Sep 15 11:02 test.md\r\n"
     ]
    }
   ],
   "source": [
    "!ls  -lah  test.md"
   ]
  },
  {
   "cell_type": "code",
   "execution_count": 144,
   "metadata": {
    "ExecuteTime": {
     "end_time": "2021-09-15T08:44:33.074046Z",
     "start_time": "2021-09-15T08:44:32.947920Z"
    }
   },
   "outputs": [],
   "source": [
    "! chmod 422 test.md"
   ]
  },
  {
   "cell_type": "code",
   "execution_count": 145,
   "metadata": {
    "ExecuteTime": {
     "end_time": "2021-09-15T08:44:33.902245Z",
     "start_time": "2021-09-15T08:44:33.774020Z"
    }
   },
   "outputs": [
    {
     "name": "stdout",
     "output_type": "stream",
     "text": [
      "-r---w--w-  1 bhuwankarki  staff    20B Sep 15 11:02 test.md\r\n"
     ]
    }
   ],
   "source": [
    "!ls -lah test.md"
   ]
  },
  {
   "cell_type": "code",
   "execution_count": 149,
   "metadata": {
    "ExecuteTime": {
     "end_time": "2021-09-15T08:48:44.628640Z",
     "start_time": "2021-09-15T08:48:44.500652Z"
    }
   },
   "outputs": [],
   "source": [
    "!chmod 77 test.md"
   ]
  },
  {
   "cell_type": "code",
   "execution_count": 150,
   "metadata": {
    "ExecuteTime": {
     "end_time": "2021-09-15T08:48:45.278398Z",
     "start_time": "2021-09-15T08:48:45.152348Z"
    }
   },
   "outputs": [
    {
     "name": "stdout",
     "output_type": "stream",
     "text": [
      "----rwxrwx  1 bhuwankarki  staff    20B Sep 15 11:02 \u001b[31mtest.md\u001b[m\u001b[m\r\n"
     ]
    }
   ],
   "source": [
    "!ls -lah test.md"
   ]
  },
  {
   "cell_type": "markdown",
   "metadata": {},
   "source": [
    "### ps\n",
    "\n",
    "- shows you the current running process"
   ]
  },
  {
   "cell_type": "code",
   "execution_count": 151,
   "metadata": {
    "ExecuteTime": {
     "end_time": "2021-09-15T08:51:20.937075Z",
     "start_time": "2021-09-15T08:51:20.783691Z"
    }
   },
   "outputs": [
    {
     "name": "stdout",
     "output_type": "stream",
     "text": [
      "  PID TTY           TIME CMD\r\n",
      " 7369 ttys000    0:07.06 -zsh\r\n",
      " 7373 ttys000    0:00.01 -zsh\r\n",
      " 7542 ttys000    0:00.00 -zsh\r\n",
      " 7543 ttys000    0:00.24 -zsh\r\n",
      " 7545 ttys000    0:01.24 /Users/bhuwankarki/.cache/gitstatus/gitstatusd-darwin-\r\n",
      " 8256 ttys000    0:03.48 /opt/anaconda3/bin/python /opt/anaconda3/bin/jupyter-n\r\n",
      "15263 ttys000    0:11.70 /opt/anaconda3/bin/python /opt/anaconda3/bin/jupyter-n\r\n",
      "15338 ttys001    0:07.50 -zsh\r\n",
      "15342 ttys001    0:00.01 -zsh\r\n",
      "15511 ttys001    0:00.00 -zsh\r\n",
      "15512 ttys001    0:00.03 -zsh\r\n",
      "15514 ttys001    0:00.17 /Users/bhuwankarki/.cache/gitstatus/gitstatusd-darwin-\r\n",
      "16278 ttys001    0:00.01 nano test.md\r\n"
     ]
    }
   ],
   "source": [
    "!ps"
   ]
  },
  {
   "cell_type": "code",
   "execution_count": 153,
   "metadata": {
    "ExecuteTime": {
     "end_time": "2021-09-15T08:54:05.528116Z",
     "start_time": "2021-09-15T08:54:05.372094Z"
    }
   },
   "outputs": [
    {
     "name": "stdout",
     "output_type": "stream",
     "text": [
      "  PID TTY           TIME CMD\r\n",
      "15263 ttys000    0:12.03 python\r\n",
      " 8256 ttys000    0:03.48 python\r\n",
      "16322 ttys002    0:00.57 -zsh\r\n",
      "15338 ttys001    0:07.50 -zsh\r\n",
      "16503 ttys002    0:00.03 man\r\n",
      "16278 ttys001    0:00.01 nano\r\n",
      " 7369 ttys000    0:07.06 -zsh\r\n",
      "16326 ttys002    0:00.01 -zsh\r\n",
      "16498 ttys002    0:00.01 gitstatusd-darwin-x86_64\r\n",
      "16504 ttys002    0:00.00 sh\r\n",
      "16495 ttys002    0:00.00 -zsh\r\n",
      "16509 ttys002    0:00.01 less\r\n",
      "15514 ttys001    0:00.17 gitstatusd-darwin-x86_64\r\n",
      "16496 ttys002    0:00.00 -zsh\r\n",
      " 7545 ttys000    0:01.25 gitstatusd-darwin-x86_64\r\n",
      "16505 ttys002    0:00.00 sh\r\n",
      "15342 ttys001    0:00.01 -zsh\r\n",
      " 7373 ttys000    0:00.01 -zsh\r\n",
      "16508 ttys002    0:00.00 sh\r\n",
      "15511 ttys001    0:00.00 -zsh\r\n",
      " 7542 ttys000    0:00.00 -zsh\r\n",
      "15512 ttys001    0:00.03 -zsh\r\n",
      " 7543 ttys000    0:00.24 -zsh\r\n"
     ]
    }
   ],
   "source": [
    "!ps -mc"
   ]
  },
  {
   "cell_type": "markdown",
   "metadata": {
    "ExecuteTime": {
     "end_time": "2021-09-15T08:54:52.579183Z",
     "start_time": "2021-09-15T08:54:52.575595Z"
    }
   },
   "source": [
    "### kill\n",
    "- end the running process"
   ]
  },
  {
   "cell_type": "code",
   "execution_count": 157,
   "metadata": {
    "ExecuteTime": {
     "end_time": "2021-09-15T08:55:57.206810Z",
     "start_time": "2021-09-15T08:55:57.082453Z"
    }
   },
   "outputs": [
    {
     "name": "stdout",
     "output_type": "stream",
     "text": [
      "zsh:kill:1: kill 16278 failed: no such process\r\n"
     ]
    }
   ],
   "source": [
    "!kill 16278"
   ]
  },
  {
   "cell_type": "code",
   "execution_count": null,
   "metadata": {
    "ExecuteTime": {
     "end_time": "2021-09-15T08:58:00.685411Z",
     "start_time": "2021-09-15T08:58:00.682046Z"
    }
   },
   "outputs": [],
   "source": []
  },
  {
   "cell_type": "markdown",
   "metadata": {},
   "source": [
    "### pipe\n",
    " - redirect the output of the previous command as input"
   ]
  },
  {
   "cell_type": "code",
   "execution_count": 162,
   "metadata": {
    "ExecuteTime": {
     "end_time": "2021-09-15T09:01:51.071634Z",
     "start_time": "2021-09-15T09:01:49.643388Z"
    }
   },
   "outputs": [
    {
     "name": "stdout",
     "output_type": "stream",
     "text": [
      "tensorflow==2.5.1\r\n",
      "tensorflow-addons==0.13.0\r\n",
      "tensorflow-data-validation==1.2.0\r\n",
      "tensorflow-datasets==4.3.0\r\n",
      "tensorflow-estimator==2.5.0\r\n",
      "tensorflow-hub==0.9.0\r\n",
      "tensorflow-io==0.18.0\r\n",
      "tensorflow-io-gcs-filesystem==0.18.0\r\n",
      "tensorflow-metadata==1.2.0\r\n",
      "tensorflow-model-analysis==0.33.0\r\n",
      "tensorflow-probability==0.12.1\r\n",
      "tensorflow-serving-api==2.5.2\r\n",
      "tensorflow-transform==1.2.0\r\n"
     ]
    }
   ],
   "source": [
    "!pip freeze all | grep \"tensorflow\""
   ]
  },
  {
   "cell_type": "code",
   "execution_count": 163,
   "metadata": {
    "ExecuteTime": {
     "end_time": "2021-09-15T09:02:09.855717Z",
     "start_time": "2021-09-15T09:02:09.729542Z"
    }
   },
   "outputs": [
    {
     "name": "stdout",
     "output_type": "stream",
     "text": [
      "Command.ipynb    test.md.save     \u001b[1m\u001b[36muntitled folder\u001b[m\u001b[m/\r\n",
      "\u001b[31mtest.md\u001b[m\u001b[m*         test.zip\r\n"
     ]
    }
   ],
   "source": [
    "ls"
   ]
  },
  {
   "cell_type": "code",
   "execution_count": 165,
   "metadata": {
    "ExecuteTime": {
     "end_time": "2021-09-15T09:02:31.624087Z",
     "start_time": "2021-09-15T09:02:31.499756Z"
    }
   },
   "outputs": [],
   "source": [
    "rm test.md.save"
   ]
  },
  {
   "cell_type": "code",
   "execution_count": 166,
   "metadata": {
    "ExecuteTime": {
     "end_time": "2021-09-15T09:03:05.691498Z",
     "start_time": "2021-09-15T09:03:05.565976Z"
    }
   },
   "outputs": [
    {
     "name": "stdout",
     "output_type": "stream",
     "text": [
      "Command.ipynb    test.txt         \u001b[1m\u001b[36muntitled folder\u001b[m\u001b[m/\r\n",
      "\u001b[31mtest.md\u001b[m\u001b[m*         test.zip\r\n"
     ]
    }
   ],
   "source": [
    "ls\n"
   ]
  },
  {
   "cell_type": "code",
   "execution_count": 177,
   "metadata": {
    "ExecuteTime": {
     "end_time": "2021-09-15T09:05:15.386074Z",
     "start_time": "2021-09-15T09:05:15.260161Z"
    }
   },
   "outputs": [
    {
     "name": "stdout",
     "output_type": "stream",
     "text": [
      "       3      15\r\n"
     ]
    }
   ],
   "source": [
    "cat test.txt | grep \"this\"| wc -lw"
   ]
  },
  {
   "cell_type": "code",
   "execution_count": null,
   "metadata": {},
   "outputs": [],
   "source": []
  },
  {
   "cell_type": "markdown",
   "metadata": {},
   "source": [
    "### grep \n",
    "\n",
    "- g/re/p\n",
    "- search for text any pattern\n"
   ]
  },
  {
   "cell_type": "code",
   "execution_count": 178,
   "metadata": {
    "ExecuteTime": {
     "end_time": "2021-09-15T09:07:17.177462Z",
     "start_time": "2021-09-15T09:07:17.044156Z"
    }
   },
   "outputs": [
    {
     "name": "stdout",
     "output_type": "stream",
     "text": [
      "this is a first line\r\n",
      "this is a second line\r\n",
      "this is a third line\r\n"
     ]
    }
   ],
   "source": [
    "!grep \"this\" test.txt"
   ]
  },
  {
   "cell_type": "code",
   "execution_count": 179,
   "metadata": {
    "ExecuteTime": {
     "end_time": "2021-09-15T09:08:11.777316Z",
     "start_time": "2021-09-15T09:08:11.647912Z"
    }
   },
   "outputs": [
    {
     "name": "stdout",
     "output_type": "stream",
     "text": [
      "this is a first line\r\n",
      "this is a second line\r\n",
      "this is a third line\r\n",
      " another new line\r\n"
     ]
    }
   ],
   "source": [
    "!grep \"\\w\" test.txt"
   ]
  },
  {
   "cell_type": "code",
   "execution_count": 183,
   "metadata": {
    "ExecuteTime": {
     "end_time": "2021-09-15T09:09:11.054413Z",
     "start_time": "2021-09-15T09:09:10.929563Z"
    }
   },
   "outputs": [
    {
     "name": "stdout",
     "output_type": "stream",
     "text": [
      "test.txt:12 another new line\r\n"
     ]
    }
   ],
   "source": [
    "!grep -r \"\\d\" test.txt"
   ]
  },
  {
   "cell_type": "code",
   "execution_count": 213,
   "metadata": {
    "ExecuteTime": {
     "end_time": "2021-09-15T09:17:01.082789Z",
     "start_time": "2021-09-15T09:17:00.956415Z"
    }
   },
   "outputs": [
    {
     "name": "stdout",
     "output_type": "stream",
     "text": [
      "12 another new line\r\n"
     ]
    }
   ],
   "source": [
    "!grep -G \"\\d{2}\" test.txt"
   ]
  },
  {
   "cell_type": "markdown",
   "metadata": {},
   "source": [
    "### redirecting\n",
    "- `>` and `>>` we want to save the program output in a file\n",
    "\n",
    "- `>` save an output to a file if file is present it replace the content with the new \n",
    "- `>>`append a output to a file without removing the content"
   ]
  },
  {
   "cell_type": "code",
   "execution_count": 216,
   "metadata": {
    "ExecuteTime": {
     "end_time": "2021-09-15T09:20:34.834667Z",
     "start_time": "2021-09-15T09:20:34.708517Z"
    }
   },
   "outputs": [],
   "source": [
    "cat test.txt |wc -l >count.txt"
   ]
  },
  {
   "cell_type": "code",
   "execution_count": 217,
   "metadata": {
    "ExecuteTime": {
     "end_time": "2021-09-15T09:20:37.113476Z",
     "start_time": "2021-09-15T09:20:36.986327Z"
    }
   },
   "outputs": [
    {
     "name": "stdout",
     "output_type": "stream",
     "text": [
      "Command.ipynb    \u001b[31mtest.md\u001b[m\u001b[m*         test.zip\r\n",
      "count.txt        test.txt         \u001b[1m\u001b[36muntitled folder\u001b[m\u001b[m/\r\n"
     ]
    }
   ],
   "source": [
    "ls"
   ]
  },
  {
   "cell_type": "code",
   "execution_count": 218,
   "metadata": {
    "ExecuteTime": {
     "end_time": "2021-09-15T09:20:44.443429Z",
     "start_time": "2021-09-15T09:20:44.318321Z"
    }
   },
   "outputs": [
    {
     "name": "stdout",
     "output_type": "stream",
     "text": [
      "       4\r\n"
     ]
    }
   ],
   "source": [
    "cat count.txt"
   ]
  },
  {
   "cell_type": "code",
   "execution_count": 219,
   "metadata": {
    "ExecuteTime": {
     "end_time": "2021-09-15T09:21:21.990948Z",
     "start_time": "2021-09-15T09:21:21.869861Z"
    }
   },
   "outputs": [],
   "source": [
    "!echo \" its the count of the file count.txt\" >count.txt"
   ]
  },
  {
   "cell_type": "code",
   "execution_count": 220,
   "metadata": {
    "ExecuteTime": {
     "end_time": "2021-09-15T09:21:27.477249Z",
     "start_time": "2021-09-15T09:21:27.350525Z"
    }
   },
   "outputs": [
    {
     "name": "stdout",
     "output_type": "stream",
     "text": [
      " its the count of the file count.txt\r\n"
     ]
    }
   ],
   "source": [
    "cat count.txt"
   ]
  },
  {
   "cell_type": "code",
   "execution_count": 221,
   "metadata": {
    "ExecuteTime": {
     "end_time": "2021-09-15T09:22:46.224004Z",
     "start_time": "2021-09-15T09:22:46.097257Z"
    }
   },
   "outputs": [],
   "source": [
    "\n",
    "cat test.txt |wc -l >>count.txt"
   ]
  },
  {
   "cell_type": "code",
   "execution_count": 222,
   "metadata": {
    "ExecuteTime": {
     "end_time": "2021-09-15T09:22:52.148370Z",
     "start_time": "2021-09-15T09:22:52.022364Z"
    }
   },
   "outputs": [
    {
     "name": "stdout",
     "output_type": "stream",
     "text": [
      " its the count of the file count.txt\r\n",
      "       4\r\n"
     ]
    }
   ],
   "source": [
    "cat count.txt"
   ]
  },
  {
   "cell_type": "code",
   "execution_count": 223,
   "metadata": {
    "ExecuteTime": {
     "end_time": "2021-09-15T09:23:48.681892Z",
     "start_time": "2021-09-15T09:23:48.547728Z"
    }
   },
   "outputs": [],
   "source": [
    "! ls -lah >>count.txt"
   ]
  },
  {
   "cell_type": "code",
   "execution_count": 224,
   "metadata": {
    "ExecuteTime": {
     "end_time": "2021-09-15T09:23:52.607094Z",
     "start_time": "2021-09-15T09:23:52.484927Z"
    },
    "scrolled": true
   },
   "outputs": [
    {
     "name": "stdout",
     "output_type": "stream",
     "text": [
      " its the count of the file count.txt\r\n",
      "       4\r\n",
      "total 224\r\n",
      "drwxr-xr-x  10 bhuwankarki  staff   320B Sep 15 12:21 .\r\n",
      "drwxr-xr-x   5 bhuwankarki  staff   160B Sep 15 10:41 ..\r\n",
      "-rw-r--r--@  1 bhuwankarki  staff   6.0K Sep 15 10:46 .DS_Store\r\n",
      "drwxr-xr-x   3 bhuwankarki  staff    96B Sep 15 10:15 .ipynb_checkpoints\r\n",
      "-rw-r--r--   1 bhuwankarki  staff    86K Sep 15 12:21 Command.ipynb\r\n",
      "-rw-r--r--   1 bhuwankarki  staff    46B Sep 15 12:22 count.txt\r\n",
      "----rwxrwx   1 bhuwankarki  staff    20B Sep 15 11:02 test.md\r\n",
      "-rw-r--r--   1 bhuwankarki  staff    84B Sep 15 12:09 test.txt\r\n",
      "-rw-r--r--   1 bhuwankarki  staff   2.0K Sep 15 11:12 test.zip\r\n",
      "drwxr-xr-x   7 bhuwankarki  staff   224B Sep 15 11:17 untitled folder\r\n"
     ]
    }
   ],
   "source": [
    "cat count.txt"
   ]
  },
  {
   "cell_type": "code",
   "execution_count": 234,
   "metadata": {
    "ExecuteTime": {
     "end_time": "2021-09-15T09:26:12.883087Z",
     "start_time": "2021-09-15T09:26:12.758076Z"
    }
   },
   "outputs": [],
   "source": [
    "!ls s 2>>count.txt #---> add a error to the file"
   ]
  },
  {
   "cell_type": "code",
   "execution_count": null,
   "metadata": {
    "ExecuteTime": {
     "end_time": "2021-09-15T09:26:08.388078Z",
     "start_time": "2021-09-15T09:26:08.261924Z"
    }
   },
   "outputs": [],
   "source": []
  },
  {
   "cell_type": "code",
   "execution_count": 235,
   "metadata": {
    "ExecuteTime": {
     "end_time": "2021-09-15T09:26:18.682625Z",
     "start_time": "2021-09-15T09:26:18.555425Z"
    }
   },
   "outputs": [
    {
     "name": "stdout",
     "output_type": "stream",
     "text": [
      " its the count of the file count.txt\r\n",
      "       4\r\n",
      "total 224\r\n",
      "drwxr-xr-x  10 bhuwankarki  staff   320B Sep 15 12:21 .\r\n",
      "drwxr-xr-x   5 bhuwankarki  staff   160B Sep 15 10:41 ..\r\n",
      "-rw-r--r--@  1 bhuwankarki  staff   6.0K Sep 15 10:46 .DS_Store\r\n",
      "drwxr-xr-x   3 bhuwankarki  staff    96B Sep 15 10:15 .ipynb_checkpoints\r\n",
      "-rw-r--r--   1 bhuwankarki  staff    86K Sep 15 12:21 Command.ipynb\r\n",
      "-rw-r--r--   1 bhuwankarki  staff    46B Sep 15 12:22 count.txt\r\n",
      "----rwxrwx   1 bhuwankarki  staff    20B Sep 15 11:02 test.md\r\n",
      "-rw-r--r--   1 bhuwankarki  staff    84B Sep 15 12:09 test.txt\r\n",
      "-rw-r--r--   1 bhuwankarki  staff   2.0K Sep 15 11:12 test.zip\r\n",
      "drwxr-xr-x   7 bhuwankarki  staff   224B Sep 15 11:17 untitled folder\r\n",
      "total 216\r\n",
      "-rw-r--r--  1 bhuwankarki  staff  90154 Sep 15 12:23 Command.ipynb\r\n",
      "-rw-r--r--  1 bhuwankarki  staff    696 Sep 15 12:23 count.txt\r\n",
      "----rwxrwx  1 bhuwankarki  staff     20 Sep 15 11:02 test.md\r\n",
      "-rw-r--r--  1 bhuwankarki  staff     84 Sep 15 12:09 test.txt\r\n",
      "-rw-r--r--  1 bhuwankarki  staff   2048 Sep 15 11:12 test.zip\r\n",
      "drwxr-xr-x  7 bhuwankarki  staff    224 Sep 15 11:17 untitled folder\r\n",
      "ls: s: No such file or directory\r\n"
     ]
    }
   ],
   "source": [
    "cat count.txt"
   ]
  },
  {
   "cell_type": "markdown",
   "metadata": {},
   "source": [
    "`<` --> redirect other way or as input"
   ]
  },
  {
   "cell_type": "code",
   "execution_count": 237,
   "metadata": {
    "ExecuteTime": {
     "end_time": "2021-09-15T09:28:04.955357Z",
     "start_time": "2021-09-15T09:28:04.830863Z"
    }
   },
   "outputs": [
    {
     "name": "stdout",
     "output_type": "stream",
     "text": [
      "      21\r\n"
     ]
    }
   ],
   "source": [
    "!wc -l <count.txt"
   ]
  },
  {
   "cell_type": "code",
   "execution_count": 238,
   "metadata": {
    "ExecuteTime": {
     "end_time": "2021-09-15T09:28:26.431144Z",
     "start_time": "2021-09-15T09:28:26.306070Z"
    }
   },
   "outputs": [
    {
     "name": "stdout",
     "output_type": "stream",
     "text": [
      " its the count of the file count.txt\r\n",
      "       4\r\n",
      "total 224\r\n",
      "drwxr-xr-x  10 bhuwankarki  staff   320B Sep 15 12:21 .\r\n",
      "drwxr-xr-x   5 bhuwankarki  staff   160B Sep 15 10:41 ..\r\n",
      "-rw-r--r--@  1 bhuwankarki  staff   6.0K Sep 15 10:46 .DS_Store\r\n",
      "drwxr-xr-x   3 bhuwankarki  staff    96B Sep 15 10:15 .ipynb_checkpoints\r\n",
      "-rw-r--r--   1 bhuwankarki  staff    86K Sep 15 12:21 Command.ipynb\r\n",
      "-rw-r--r--   1 bhuwankarki  staff    46B Sep 15 12:22 count.txt\r\n",
      "----rwxrwx   1 bhuwankarki  staff    20B Sep 15 11:02 test.md\r\n",
      "-rw-r--r--   1 bhuwankarki  staff    84B Sep 15 12:09 test.txt\r\n",
      "-rw-r--r--   1 bhuwankarki  staff   2.0K Sep 15 11:12 test.zip\r\n",
      "drwxr-xr-x   7 bhuwankarki  staff   224B Sep 15 11:17 untitled folder\r\n",
      "total 216\r\n",
      "-rw-r--r--  1 bhuwankarki  staff  90154 Sep 15 12:23 Command.ipynb\r\n",
      "-rw-r--r--  1 bhuwankarki  staff    696 Sep 15 12:23 count.txt\r\n",
      "----rwxrwx  1 bhuwankarki  staff     20 Sep 15 11:02 test.md\r\n",
      "-rw-r--r--  1 bhuwankarki  staff     84 Sep 15 12:09 test.txt\r\n",
      "-rw-r--r--  1 bhuwankarki  staff   2048 Sep 15 11:12 test.zip\r\n",
      "drwxr-xr-x  7 bhuwankarki  staff    224 Sep 15 11:17 untitled folder\r\n",
      "ls: s: No such file or directory\r\n"
     ]
    }
   ],
   "source": [
    "cat count.txt\n"
   ]
  },
  {
   "cell_type": "code",
   "execution_count": 241,
   "metadata": {
    "ExecuteTime": {
     "end_time": "2021-09-15T09:29:10.300439Z",
     "start_time": "2021-09-15T09:29:10.176418Z"
    }
   },
   "outputs": [
    {
     "name": "stdout",
     "output_type": "stream",
     "text": [
      "       4\r\n",
      "total 224\r\n",
      "drwxr-xr-x   5 bhuwankarki  staff   160B Sep 15 10:41 ..\r\n",
      "-rw-r--r--@  1 bhuwankarki  staff   6.0K Sep 15 10:46 .DS_Store\r\n",
      "-rw-r--r--   1 bhuwankarki  staff    46B Sep 15 12:22 count.txt\r\n",
      "-rw-r--r--   1 bhuwankarki  staff    84B Sep 15 12:09 test.txt\r\n",
      "drwxr-xr-x   7 bhuwankarki  staff   224B Sep 15 11:17 untitled folder\r\n",
      "-rw-r--r--  1 bhuwankarki  staff  90154 Sep 15 12:23 Command.ipynb\r\n",
      "-rw-r--r--  1 bhuwankarki  staff     84 Sep 15 12:09 test.txt\r\n",
      "-rw-r--r--  1 bhuwankarki  staff   2048 Sep 15 11:12 test.zip\r\n",
      "drwxr-xr-x  7 bhuwankarki  staff    224 Sep 15 11:17 untitled folder\r\n"
     ]
    }
   ],
   "source": [
    "!grep \"4\" <count.txt"
   ]
  },
  {
   "cell_type": "code",
   "execution_count": 242,
   "metadata": {
    "ExecuteTime": {
     "end_time": "2021-09-15T09:29:56.908365Z",
     "start_time": "2021-09-15T09:29:56.906269Z"
    }
   },
   "outputs": [],
   "source": [
    "# combine both > and <\n"
   ]
  },
  {
   "cell_type": "code",
   "execution_count": 245,
   "metadata": {
    "ExecuteTime": {
     "end_time": "2021-09-15T09:30:27.487625Z",
     "start_time": "2021-09-15T09:30:27.361456Z"
    }
   },
   "outputs": [],
   "source": [
    "!wc -m <count.txt>count.txt"
   ]
  },
  {
   "cell_type": "code",
   "execution_count": 246,
   "metadata": {
    "ExecuteTime": {
     "end_time": "2021-09-15T09:30:32.322613Z",
     "start_time": "2021-09-15T09:30:32.197376Z"
    }
   },
   "outputs": [
    {
     "name": "stdout",
     "output_type": "stream",
     "text": [
      "       0\r\n"
     ]
    }
   ],
   "source": [
    "cat count.txt"
   ]
  },
  {
   "cell_type": "code",
   "execution_count": 248,
   "metadata": {
    "ExecuteTime": {
     "end_time": "2021-09-15T09:31:09.987379Z",
     "start_time": "2021-09-15T09:31:09.861961Z"
    }
   },
   "outputs": [],
   "source": [
    "!wc -m <count.txt>newfile.txt"
   ]
  },
  {
   "cell_type": "code",
   "execution_count": 249,
   "metadata": {
    "ExecuteTime": {
     "end_time": "2021-09-15T09:31:13.956860Z",
     "start_time": "2021-09-15T09:31:13.832341Z"
    }
   },
   "outputs": [
    {
     "name": "stdout",
     "output_type": "stream",
     "text": [
      "       9\r\n"
     ]
    }
   ],
   "source": [
    "cat newfile.txt"
   ]
  },
  {
   "cell_type": "code",
   "execution_count": 250,
   "metadata": {
    "ExecuteTime": {
     "end_time": "2021-09-15T09:31:33.802541Z",
     "start_time": "2021-09-15T09:31:33.659661Z"
    }
   },
   "outputs": [
    {
     "name": "stdout",
     "output_type": "stream",
     "text": [
      "       0\r\n"
     ]
    }
   ],
   "source": [
    "!head <count.txt"
   ]
  },
  {
   "cell_type": "code",
   "execution_count": 251,
   "metadata": {
    "ExecuteTime": {
     "end_time": "2021-09-15T09:33:36.975949Z",
     "start_time": "2021-09-15T09:33:36.485127Z"
    }
   },
   "outputs": [
    {
     "name": "stdout",
     "output_type": "stream",
     "text": [
      "sepal_length,sepal_width,petal_length,petal_width,species\r\n",
      "5.1,3.5,1.4,0.2,setosa\r\n",
      "4.9,3.0,1.4,0.2,setosa\r\n",
      "4.7,3.2,1.3,0.2,setosa\r\n",
      "4.6,3.1,1.5,0.2,setosa\r\n",
      "5.0,3.6,1.4,0.2,setosa\r\n",
      "5.4,3.9,1.7,0.4,setosa\r\n",
      "4.6,3.4,1.4,0.3,setosa\r\n",
      "5.0,3.4,1.5,0.2,setosa\r\n",
      "4.4,2.9,1.4,0.2,setosa\r\n",
      "4.9,3.1,1.5,0.1,setosa\r\n",
      "5.4,3.7,1.5,0.2,setosa\r\n",
      "4.8,3.4,1.6,0.2,setosa\r\n",
      "4.8,3.0,1.4,0.1,setosa\r\n",
      "4.3,3.0,1.1,0.1,setosa\r\n",
      "5.8,4.0,1.2,0.2,setosa\r\n",
      "5.7,4.4,1.5,0.4,setosa\r\n",
      "5.4,3.9,1.3,0.4,setosa\r\n",
      "5.1,3.5,1.4,0.3,setosa\r\n",
      "5.7,3.8,1.7,0.3,setosa\r\n",
      "5.1,3.8,1.5,0.3,setosa\r\n",
      "5.4,3.4,1.7,0.2,setosa\r\n",
      "5.1,3.7,1.5,0.4,setosa\r\n",
      "4.6,3.6,1.0,0.2,setosa\r\n",
      "5.1,3.3,1.7,0.5,setosa\r\n",
      "4.8,3.4,1.9,0.2,setosa\r\n",
      "5.0,3.0,1.6,0.2,setosa\r\n",
      "5.0,3.4,1.6,0.4,setosa\r\n",
      "5.2,3.5,1.5,0.2,setosa\r\n",
      "5.2,3.4,1.4,0.2,setosa\r\n",
      "4.7,3.2,1.6,0.2,setosa\r\n",
      "4.8,3.1,1.6,0.2,setosa\r\n",
      "5.4,3.4,1.5,0.4,setosa\r\n",
      "5.2,4.1,1.5,0.1,setosa\r\n",
      "5.5,4.2,1.4,0.2,setosa\r\n",
      "4.9,3.1,1.5,0.1,setosa\r\n",
      "5.0,3.2,1.2,0.2,setosa\r\n",
      "5.5,3.5,1.3,0.2,setosa\r\n",
      "4.9,3.1,1.5,0.1,setosa\r\n",
      "4.4,3.0,1.3,0.2,setosa\r\n",
      "5.1,3.4,1.5,0.2,setosa\r\n",
      "5.0,3.5,1.3,0.3,setosa\r\n",
      "4.5,2.3,1.3,0.3,setosa\r\n",
      "4.4,3.2,1.3,0.2,setosa\r\n",
      "5.0,3.5,1.6,0.6,setosa\r\n",
      "5.1,3.8,1.9,0.4,setosa\r\n",
      "4.8,3.0,1.4,0.3,setosa\r\n",
      "5.1,3.8,1.6,0.2,setosa\r\n",
      "4.6,3.2,1.4,0.2,setosa\r\n",
      "5.3,3.7,1.5,0.2,setosa\r\n",
      "5.0,3.3,1.4,0.2,setosa\r\n",
      "7.0,3.2,4.7,1.4,versicolor\r\n",
      "6.4,3.2,4.5,1.5,versicolor\r\n",
      "6.9,3.1,4.9,1.5,versicolor\r\n",
      "5.5,2.3,4.0,1.3,versicolor\r\n",
      "6.5,2.8,4.6,1.5,versicolor\r\n",
      "5.7,2.8,4.5,1.3,versicolor\r\n",
      "6.3,3.3,4.7,1.6,versicolor\r\n",
      "4.9,2.4,3.3,1.0,versicolor\r\n",
      "6.6,2.9,4.6,1.3,versicolor\r\n",
      "5.2,2.7,3.9,1.4,versicolor\r\n",
      "5.0,2.0,3.5,1.0,versicolor\r\n",
      "5.9,3.0,4.2,1.5,versicolor\r\n",
      "6.0,2.2,4.0,1.0,versicolor\r\n",
      "6.1,2.9,4.7,1.4,versicolor\r\n",
      "5.6,2.9,3.6,1.3,versicolor\r\n",
      "6.7,3.1,4.4,1.4,versicolor\r\n",
      "5.6,3.0,4.5,1.5,versicolor\r\n",
      "5.8,2.7,4.1,1.0,versicolor\r\n",
      "6.2,2.2,4.5,1.5,versicolor\r\n",
      "5.6,2.5,3.9,1.1,versicolor\r\n",
      "5.9,3.2,4.8,1.8,versicolor\r\n",
      "6.1,2.8,4.0,1.3,versicolor\r\n",
      "6.3,2.5,4.9,1.5,versicolor\r\n",
      "6.1,2.8,4.7,1.2,versicolor\r\n",
      "6.4,2.9,4.3,1.3,versicolor\r\n",
      "6.6,3.0,4.4,1.4,versicolor\r\n",
      "6.8,2.8,4.8,1.4,versicolor\r\n",
      "6.7,3.0,5.0,1.7,versicolor\r\n",
      "6.0,2.9,4.5,1.5,versicolor\r\n",
      "5.7,2.6,3.5,1.0,versicolor\r\n",
      "5.5,2.4,3.8,1.1,versicolor\r\n",
      "5.5,2.4,3.7,1.0,versicolor\r\n",
      "5.8,2.7,3.9,1.2,versicolor\r\n",
      "6.0,2.7,5.1,1.6,versicolor\r\n",
      "5.4,3.0,4.5,1.5,versicolor\r\n",
      "6.0,3.4,4.5,1.6,versicolor\r\n",
      "6.7,3.1,4.7,1.5,versicolor\r\n",
      "6.3,2.3,4.4,1.3,versicolor\r\n",
      "5.6,3.0,4.1,1.3,versicolor\r\n",
      "5.5,2.5,4.0,1.3,versicolor\r\n",
      "5.5,2.6,4.4,1.2,versicolor\r\n",
      "6.1,3.0,4.6,1.4,versicolor\r\n",
      "5.8,2.6,4.0,1.2,versicolor\r\n",
      "5.0,2.3,3.3,1.0,versicolor\r\n",
      "5.6,2.7,4.2,1.3,versicolor\r\n",
      "5.7,3.0,4.2,1.2,versicolor\r\n",
      "5.7,2.9,4.2,1.3,versicolor\r\n",
      "6.2,2.9,4.3,1.3,versicolor\r\n",
      "5.1,2.5,3.0,1.1,versicolor\r\n",
      "5.7,2.8,4.1,1.3,versicolor\r\n",
      "6.3,3.3,6.0,2.5,virginica\r\n",
      "5.8,2.7,5.1,1.9,virginica\r\n",
      "7.1,3.0,5.9,2.1,virginica\r\n",
      "6.3,2.9,5.6,1.8,virginica\r\n",
      "6.5,3.0,5.8,2.2,virginica\r\n",
      "7.6,3.0,6.6,2.1,virginica\r\n",
      "4.9,2.5,4.5,1.7,virginica\r\n",
      "7.3,2.9,6.3,1.8,virginica\r\n",
      "6.7,2.5,5.8,1.8,virginica\r\n",
      "7.2,3.6,6.1,2.5,virginica\r\n",
      "6.5,3.2,5.1,2.0,virginica\r\n",
      "6.4,2.7,5.3,1.9,virginica\r\n",
      "6.8,3.0,5.5,2.1,virginica\r\n",
      "5.7,2.5,5.0,2.0,virginica\r\n",
      "5.8,2.8,5.1,2.4,virginica\r\n",
      "6.4,3.2,5.3,2.3,virginica\r\n",
      "6.5,3.0,5.5,1.8,virginica\r\n",
      "7.7,3.8,6.7,2.2,virginica\r\n",
      "7.7,2.6,6.9,2.3,virginica\r\n",
      "6.0,2.2,5.0,1.5,virginica\r\n",
      "6.9,3.2,5.7,2.3,virginica\r\n",
      "5.6,2.8,4.9,2.0,virginica\r\n",
      "7.7,2.8,6.7,2.0,virginica\r\n",
      "6.3,2.7,4.9,1.8,virginica\r\n",
      "6.7,3.3,5.7,2.1,virginica\r\n",
      "7.2,3.2,6.0,1.8,virginica\r\n",
      "6.2,2.8,4.8,1.8,virginica\r\n",
      "6.1,3.0,4.9,1.8,virginica\r\n",
      "6.4,2.8,5.6,2.1,virginica\r\n",
      "7.2,3.0,5.8,1.6,virginica\r\n",
      "7.4,2.8,6.1,1.9,virginica\r\n",
      "7.9,3.8,6.4,2.0,virginica\r\n",
      "6.4,2.8,5.6,2.2,virginica\r\n",
      "6.3,2.8,5.1,1.5,virginica\r\n",
      "6.1,2.6,5.6,1.4,virginica\r\n",
      "7.7,3.0,6.1,2.3,virginica\r\n",
      "6.3,3.4,5.6,2.4,virginica\r\n",
      "6.4,3.1,5.5,1.8,virginica\r\n",
      "6.0,3.0,4.8,1.8,virginica\r\n",
      "6.9,3.1,5.4,2.1,virginica\r\n",
      "6.7,3.1,5.6,2.4,virginica\r\n",
      "6.9,3.1,5.1,2.3,virginica\r\n",
      "5.8,2.7,5.1,1.9,virginica\r\n",
      "6.8,3.2,5.9,2.3,virginica\r\n",
      "6.7,3.3,5.7,2.5,virginica\r\n",
      "6.7,3.0,5.2,2.3,virginica\r\n",
      "6.3,2.5,5.0,1.9,virginica\r\n",
      "6.5,3.0,5.2,2.0,virginica\r\n",
      "6.2,3.4,5.4,2.3,virginica\r\n",
      "5.9,3.0,5.1,1.8,virginica\r\n"
     ]
    }
   ],
   "source": [
    "!curl https://gist.githubusercontent.com/curran/a08a1080b88344b0c8a7/raw/0e7a9b0a5d22642a06d3d5b9bcbad9890c8ee534/iris.csv"
   ]
  },
  {
   "cell_type": "code",
   "execution_count": null,
   "metadata": {
    "ExecuteTime": {
     "end_time": "2021-09-15T09:36:10.825547Z",
     "start_time": "2021-09-15T09:36:10.820565Z"
    }
   },
   "outputs": [],
   "source": []
  },
  {
   "cell_type": "code",
   "execution_count": 280,
   "metadata": {
    "ExecuteTime": {
     "end_time": "2021-09-15T09:48:36.865299Z",
     "start_time": "2021-09-15T09:48:36.853981Z"
    }
   },
   "outputs": [
    {
     "name": "stdout",
     "output_type": "stream",
     "text": [
      "jack has got 5 in cs\n",
      "4 has got 5 in cs\n"
     ]
    }
   ],
   "source": [
    "%%bash\n",
    "name=\"jack\"\n",
    "grade=5\n",
    "echo \"${name} has got ${grade} in cs\"\n",
    "echo \"${#name} has got ${grade} in cs\""
   ]
  },
  {
   "cell_type": "code",
   "execution_count": 265,
   "metadata": {
    "ExecuteTime": {
     "end_time": "2021-09-15T09:41:56.045459Z",
     "start_time": "2021-09-15T09:41:56.034979Z"
    }
   },
   "outputs": [
    {
     "name": "stdout",
     "output_type": "stream",
     "text": [
      "/Users/bhuwankarki/Desktop/DS_ML_2021_09/shell\n"
     ]
    }
   ],
   "source": [
    "%%bash\n",
    "echo $PWD\n",
    "echo "
   ]
  },
  {
   "cell_type": "code",
   "execution_count": 272,
   "metadata": {
    "ExecuteTime": {
     "end_time": "2021-09-15T09:45:07.122003Z",
     "start_time": "2021-09-15T09:45:07.118720Z"
    }
   },
   "outputs": [
    {
     "name": "stdout",
     "output_type": "stream",
     "text": [
      "/Users/bhuwankarki/Desktop/DS_ML_2021_09/shell\n",
      "16\n"
     ]
    }
   ],
   "source": [
    "import os\n",
    "print(os.getcwd())\n",
    "print(os.cpu_count())"
   ]
  },
  {
   "cell_type": "code",
   "execution_count": 270,
   "metadata": {
    "ExecuteTime": {
     "end_time": "2021-09-15T09:44:08.694310Z",
     "start_time": "2021-09-15T09:44:08.691069Z"
    }
   },
   "outputs": [
    {
     "data": {
      "text/plain": [
       "'3.8.2 (default, Mar 26 2020, 10:43:30) \\n[Clang 4.0.1 (tags/RELEASE_401/final)]'"
      ]
     },
     "execution_count": 270,
     "metadata": {},
     "output_type": "execute_result"
    }
   ],
   "source": [
    "import sys\n",
    "sys.version"
   ]
  },
  {
   "cell_type": "code",
   "execution_count": 269,
   "metadata": {
    "ExecuteTime": {
     "end_time": "2021-09-15T09:43:57.314871Z",
     "start_time": "2021-09-15T09:43:57.311805Z"
    }
   },
   "outputs": [
    {
     "data": {
      "text/plain": [
       "'3.8.2 (default, Mar 26 2020, 10:43:30) \\n[Clang 4.0.1 (tags/RELEASE_401/final)]'"
      ]
     },
     "execution_count": 269,
     "metadata": {},
     "output_type": "execute_result"
    }
   ],
   "source": []
  },
  {
   "cell_type": "code",
   "execution_count": 285,
   "metadata": {
    "ExecuteTime": {
     "end_time": "2021-09-15T09:50:44.670865Z",
     "start_time": "2021-09-15T09:50:44.656032Z"
    }
   },
   "outputs": [
    {
     "name": "stdout",
     "output_type": "stream",
     "text": [
      "Welcome 1\n",
      "Welcome 2\n",
      "Welcome 3\n",
      "Welcome 4\n",
      "Welcome 5\n"
     ]
    }
   ],
   "source": [
    "%%bash\n",
    "for i in {1..5}; do\n",
    "    echo \"Welcome $i\"\n",
    "done"
   ]
  }
 ],
 "metadata": {
  "kernelspec": {
   "display_name": "Python 3",
   "language": "python",
   "name": "python3"
  },
  "language_info": {
   "codemirror_mode": {
    "name": "ipython",
    "version": 3
   },
   "file_extension": ".py",
   "mimetype": "text/x-python",
   "name": "python",
   "nbconvert_exporter": "python",
   "pygments_lexer": "ipython3",
   "version": "3.8.5"
  },
  "toc": {
   "base_numbering": 1,
   "nav_menu": {},
   "number_sections": true,
   "sideBar": true,
   "skip_h1_title": false,
   "title_cell": "Table of Contents",
   "title_sidebar": "Contents",
   "toc_cell": false,
   "toc_position": {},
   "toc_section_display": true,
   "toc_window_display": false
  },
  "varInspector": {
   "cols": {
    "lenName": 16,
    "lenType": 16,
    "lenVar": 40
   },
   "kernels_config": {
    "python": {
     "delete_cmd_postfix": "",
     "delete_cmd_prefix": "del ",
     "library": "var_list.py",
     "varRefreshCmd": "print(var_dic_list())"
    },
    "r": {
     "delete_cmd_postfix": ") ",
     "delete_cmd_prefix": "rm(",
     "library": "var_list.r",
     "varRefreshCmd": "cat(var_dic_list()) "
    }
   },
   "types_to_exclude": [
    "module",
    "function",
    "builtin_function_or_method",
    "instance",
    "_Feature"
   ],
   "window_display": false
  }
 },
 "nbformat": 4,
 "nbformat_minor": 5
}
