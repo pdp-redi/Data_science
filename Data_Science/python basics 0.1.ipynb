{
 "cells": [
  {
   "cell_type": "code",
   "execution_count": 5,
   "metadata": {},
   "outputs": [
    {
     "name": "stdout",
     "output_type": "stream",
     "text": [
      "Type the number of kilometer:100\n",
      "100.0 km= 62.14 miles\n"
     ]
    }
   ],
   "source": [
    "km=float(input(\"Type the number of kilometer:\"))\n",
    "miles=km/1.609344\n",
    "print(km, \"km=\",round(miles,2), \"miles\")"
   ]
  },
  {
   "cell_type": "code",
   "execution_count": 6,
   "metadata": {},
   "outputs": [
    {
     "name": "stdout",
     "output_type": "stream",
     "text": [
      "6.0\n"
     ]
    }
   ],
   "source": [
    "x=4\n",
    "y=8\n",
    "avg=print((x+y)/2)"
   ]
  },
  {
   "cell_type": "code",
   "execution_count": 16,
   "metadata": {},
   "outputs": [
    {
     "data": {
      "text/plain": [
       "23"
      ]
     },
     "execution_count": 16,
     "metadata": {},
     "output_type": "execute_result"
    }
   ],
   "source": [
    "mystring='she said \"meet me at 5\"'\n",
    "mystring\n",
    "\n",
    "len(mystring)"
   ]
  },
  {
   "cell_type": "code",
   "execution_count": 33,
   "metadata": {},
   "outputs": [
    {
     "name": "stdout",
     "output_type": "stream",
     "text": [
      "037\n",
      "00901\n",
      "00027\n"
     ]
    }
   ],
   "source": [
    "mystring= \"037-00901-00027\"\n",
    "\n",
    "country_code= mystring[0:3]\n",
    "product_code= mystring[4:9]\n",
    "batch_number= mystring[-5:]\n",
    "print(country_code)\n",
    "print(product_code)\n",
    "print(batch_number)"
   ]
  },
  {
   "cell_type": "code",
   "execution_count": 38,
   "metadata": {},
   "outputs": [
    {
     "name": "stdout",
     "output_type": "stream",
     "text": [
      "country code: 037\n"
     ]
    }
   ],
   "source": [
    "lot_number= \"037-00901-00027\"\n",
    "print(\"country code:\", lot_number[:3])"
   ]
  },
  {
   "cell_type": "code",
   "execution_count": null,
   "metadata": {},
   "outputs": [],
   "source": [
    "area_of_circel= input(\"area of circle\")\n",
    "circumference_of_circle= input(\"circumference of circle\")"
   ]
  },
  {
   "cell_type": "code",
   "execution_count": null,
   "metadata": {},
   "outputs": [],
   "source": []
  }
 ],
 "metadata": {
  "kernelspec": {
   "display_name": "Python 3",
   "language": "python",
   "name": "python3"
  },
  "language_info": {
   "codemirror_mode": {
    "name": "ipython",
    "version": 3
   },
   "file_extension": ".py",
   "mimetype": "text/x-python",
   "name": "python",
   "nbconvert_exporter": "python",
   "pygments_lexer": "ipython3",
   "version": "3.8.5"
  }
 },
 "nbformat": 4,
 "nbformat_minor": 4
}
